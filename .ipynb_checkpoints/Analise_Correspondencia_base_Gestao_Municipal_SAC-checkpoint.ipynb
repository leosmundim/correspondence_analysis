{
 "cells": [
  {
   "cell_type": "code",
   "execution_count": 2,
   "id": "fee56426",
   "metadata": {},
   "outputs": [],
   "source": [
    "import pandas as pd\n",
    "import numpy as np\n",
    "import seaborn as sns\n",
    "import pyreadr\n",
    "import rdata\n",
    "import matplotlib.pyplot as plt"
   ]
  },
  {
   "cell_type": "markdown",
   "id": "056a970b",
   "metadata": {},
   "source": [
    "# Análise de Correspondência Múltipla\n",
    "\n",
    "**Técnica Não Supervisionada**\n",
    "\n",
    "Exemplo da aula do MBA DSA USP/ESALQ com Prof. Wilson Tarantin Jr.\n",
    "\n",
    "- Referência: https://www.kaggle.com/code/jiagengchang/heart-disease-multiple-correspondence-analysis/notebook\n",
    "\n",
    "- Documentação: https://pypi.org/project/prince/#correspondence-analysis-ca\n",
    "\n",
    "\n",
    "### Aplicabilidade\n",
    "\n",
    "Técnica adequada para a análise de variáveis qualitativas.\n",
    "\n",
    ">Verificar se existe associação estatisticamente significativa entre as variáveis e suas categorias. <br>\n",
    "\n",
    ">Verificar como as categorias se associam entre elas.\n",
    "\n",
    ">Construção do mapa perceptual para visualizar essas associações.\n",
    "\n",
    "<b>Para variáveis quantitativas é necessários transformá-las em variáveis categóricas. Criando faixas/categorias.</b>\n",
    "\n",
    "\n",
    "### Objetivo da Análise\n",
    "\n",
    "Banco de dados que contém o resultado de uma pesquisa realizada com 9 mil pessoas que ao longo de 3 anos foi perguntado a respeito da gestão municipal. \"Você acredita que a gestão municiapal é boa?\" baseada na escala Likert:\n",
    "\n",
    "- Concordo Totalmente\n",
    "- Concordo Parcialmente\n",
    "- Discordo Parcialmente\n",
    "- Discordo Totalmente\n",
    "\n",
    "Verificar se houve alteração no tipo de resposta em cada um dos anos."
   ]
  },
  {
   "cell_type": "code",
   "execution_count": 3,
   "id": "c758acef",
   "metadata": {},
   "outputs": [
    {
     "name": "stdout",
     "output_type": "stream",
     "text": [
      "odict_keys(['gestao_municipal'])\n"
     ]
    }
   ],
   "source": [
    "#Importa base e transforma em objeto\n",
    "rData = pyreadr.read_r(r'bases\\gestao_municipal.RData')\n",
    "\n",
    "#Verifica o nomne do objeto\n",
    "print(rData.keys())"
   ]
  },
  {
   "cell_type": "code",
   "execution_count": 4,
   "id": "d3bf0d0e",
   "metadata": {},
   "outputs": [],
   "source": [
    "#Transforma o objeto em um pandas DataFrame\n",
    "gestao_municipal = rData['gestao_municipal']"
   ]
  },
  {
   "cell_type": "code",
   "execution_count": 5,
   "id": "e11c7deb",
   "metadata": {},
   "outputs": [
    {
     "data": {
      "text/html": [
       "<div>\n",
       "<style scoped>\n",
       "    .dataframe tbody tr th:only-of-type {\n",
       "        vertical-align: middle;\n",
       "    }\n",
       "\n",
       "    .dataframe tbody tr th {\n",
       "        vertical-align: top;\n",
       "    }\n",
       "\n",
       "    .dataframe thead th {\n",
       "        text-align: right;\n",
       "    }\n",
       "</style>\n",
       "<table border=\"1\" class=\"dataframe\">\n",
       "  <thead>\n",
       "    <tr style=\"text-align: right;\">\n",
       "      <th></th>\n",
       "      <th>avaliacao</th>\n",
       "      <th>ano</th>\n",
       "    </tr>\n",
       "  </thead>\n",
       "  <tbody>\n",
       "    <tr>\n",
       "      <th>0</th>\n",
       "      <td>Concordo Totalmente</td>\n",
       "      <td>20X1</td>\n",
       "    </tr>\n",
       "    <tr>\n",
       "      <th>1</th>\n",
       "      <td>Concordo Totalmente</td>\n",
       "      <td>20X1</td>\n",
       "    </tr>\n",
       "    <tr>\n",
       "      <th>2</th>\n",
       "      <td>Concordo Totalmente</td>\n",
       "      <td>20X1</td>\n",
       "    </tr>\n",
       "    <tr>\n",
       "      <th>3</th>\n",
       "      <td>Concordo Parcialmente</td>\n",
       "      <td>20X1</td>\n",
       "    </tr>\n",
       "    <tr>\n",
       "      <th>4</th>\n",
       "      <td>Concordo Totalmente</td>\n",
       "      <td>20X1</td>\n",
       "    </tr>\n",
       "    <tr>\n",
       "      <th>...</th>\n",
       "      <td>...</td>\n",
       "      <td>...</td>\n",
       "    </tr>\n",
       "    <tr>\n",
       "      <th>8995</th>\n",
       "      <td>Discordo Totalmente</td>\n",
       "      <td>20X3</td>\n",
       "    </tr>\n",
       "    <tr>\n",
       "      <th>8996</th>\n",
       "      <td>Discordo Parcialmente</td>\n",
       "      <td>20X3</td>\n",
       "    </tr>\n",
       "    <tr>\n",
       "      <th>8997</th>\n",
       "      <td>Discordo Parcialmente</td>\n",
       "      <td>20X3</td>\n",
       "    </tr>\n",
       "    <tr>\n",
       "      <th>8998</th>\n",
       "      <td>Discordo Parcialmente</td>\n",
       "      <td>20X3</td>\n",
       "    </tr>\n",
       "    <tr>\n",
       "      <th>8999</th>\n",
       "      <td>Nem Concordo, Nem Discordo</td>\n",
       "      <td>20X3</td>\n",
       "    </tr>\n",
       "  </tbody>\n",
       "</table>\n",
       "<p>9000 rows × 2 columns</p>\n",
       "</div>"
      ],
      "text/plain": [
       "                       avaliacao   ano\n",
       "0            Concordo Totalmente  20X1\n",
       "1            Concordo Totalmente  20X1\n",
       "2            Concordo Totalmente  20X1\n",
       "3          Concordo Parcialmente  20X1\n",
       "4            Concordo Totalmente  20X1\n",
       "...                          ...   ...\n",
       "8995         Discordo Totalmente  20X3\n",
       "8996       Discordo Parcialmente  20X3\n",
       "8997       Discordo Parcialmente  20X3\n",
       "8998       Discordo Parcialmente  20X3\n",
       "8999  Nem Concordo, Nem Discordo  20X3\n",
       "\n",
       "[9000 rows x 2 columns]"
      ]
     },
     "execution_count": 5,
     "metadata": {},
     "output_type": "execute_result"
    }
   ],
   "source": [
    "gestao_municipal.columns = ['avaliacao', 'ano']\n",
    "gestao_municipal"
   ]
  },
  {
   "cell_type": "code",
   "execution_count": 6,
   "id": "06dc4d81",
   "metadata": {},
   "outputs": [
    {
     "data": {
      "text/html": [
       "<div>\n",
       "<style scoped>\n",
       "    .dataframe tbody tr th:only-of-type {\n",
       "        vertical-align: middle;\n",
       "    }\n",
       "\n",
       "    .dataframe tbody tr th {\n",
       "        vertical-align: top;\n",
       "    }\n",
       "\n",
       "    .dataframe thead th {\n",
       "        text-align: right;\n",
       "    }\n",
       "</style>\n",
       "<table border=\"1\" class=\"dataframe\">\n",
       "  <thead>\n",
       "    <tr style=\"text-align: right;\">\n",
       "      <th></th>\n",
       "      <th>avaliacao</th>\n",
       "      <th>ano</th>\n",
       "    </tr>\n",
       "  </thead>\n",
       "  <tbody>\n",
       "    <tr>\n",
       "      <th>count</th>\n",
       "      <td>9000</td>\n",
       "      <td>9000</td>\n",
       "    </tr>\n",
       "    <tr>\n",
       "      <th>unique</th>\n",
       "      <td>5</td>\n",
       "      <td>3</td>\n",
       "    </tr>\n",
       "    <tr>\n",
       "      <th>top</th>\n",
       "      <td>Nem Concordo, Nem Discordo</td>\n",
       "      <td>20X1</td>\n",
       "    </tr>\n",
       "    <tr>\n",
       "      <th>freq</th>\n",
       "      <td>2970</td>\n",
       "      <td>3000</td>\n",
       "    </tr>\n",
       "  </tbody>\n",
       "</table>\n",
       "</div>"
      ],
      "text/plain": [
       "                         avaliacao   ano\n",
       "count                         9000  9000\n",
       "unique                           5     3\n",
       "top     Nem Concordo, Nem Discordo  20X1\n",
       "freq                          2970  3000"
      ]
     },
     "execution_count": 6,
     "metadata": {},
     "output_type": "execute_result"
    }
   ],
   "source": [
    "gestao_municipal.describe()"
   ]
  },
  {
   "cell_type": "code",
   "execution_count": 7,
   "id": "5f652c97",
   "metadata": {},
   "outputs": [
    {
     "data": {
      "text/plain": [
       "ano   avaliacao                 \n",
       "20X1  Concordo Parcialmente         1066\n",
       "      Concordo Totalmente            966\n",
       "      Discordo Parcialmente            1\n",
       "      Discordo Totalmente              0\n",
       "      Nem Concordo, Nem Discordo     967\n",
       "20X2  Concordo Parcialmente          996\n",
       "      Concordo Totalmente              0\n",
       "      Discordo Parcialmente          998\n",
       "      Discordo Totalmente              1\n",
       "      Nem Concordo, Nem Discordo    1005\n",
       "20X3  Concordo Parcialmente            0\n",
       "      Concordo Totalmente              0\n",
       "      Discordo Parcialmente         1005\n",
       "      Discordo Totalmente            997\n",
       "      Nem Concordo, Nem Discordo     998\n",
       "Name: ano, dtype: int64"
      ]
     },
     "execution_count": 7,
     "metadata": {},
     "output_type": "execute_result"
    }
   ],
   "source": [
    "gestao_municipal.groupby(['ano','avaliacao'])['ano'].count()"
   ]
  },
  {
   "cell_type": "markdown",
   "id": "e16bec59",
   "metadata": {},
   "source": [
    "# Análise da Significância Estatística Para Análise de Correspondência Simples\n",
    "\n",
    "Teste de associação qui-quadrado para avaliar a significância para pares de variáveis.\n",
    "\n",
    "**Deve-se aplicar o teste qui-quadrado para cada combinação de pares das variáveis.**\n",
    "\n",
    "- Avaliação X Ano\n",
    "\n",
    "Soma das estatísticas qui2 individuais para cada par de variável. <br>\n",
    "A partir da estatística qui2 total testaremos as hipóteses:\n",
    "\n",
    "> H0: não existe associação entre as variáveis <br>\n",
    "> H1: existe associação entre as variáveis\n",
    "\n",
    "p-valor < 0,05 rejeita H0.\n",
    "\n",
    "**Caso alguma variável não tenha associação estatisticamente significativa com pelo menos uma outra, essa variável deve ser retirada da análise.**"
   ]
  },
  {
   "cell_type": "code",
   "execution_count": 8,
   "id": "1ae42724",
   "metadata": {},
   "outputs": [
    {
     "name": "stdout",
     "output_type": "stream",
     "text": [
      "qui2: 5956.436, df: 8, p-value: 0.000\n"
     ]
    }
   ],
   "source": [
    "#Criando tabela de contingência\n",
    "tabela_contingencia = pd.crosstab(gestao_municipal['avaliacao'],\n",
    "                                 gestao_municipal['ano'])\n",
    "\n",
    "# Calculando QUI2\n",
    "\n",
    "from scipy.stats import chi2_contingency\n",
    "c, p, dof, expected = chi2_contingency(tabela_contingencia)\n",
    "\n",
    "print(f'qui2: {c:.3f}, df: {dof}, p-value: {p:.3f}')"
   ]
  },
  {
   "cell_type": "code",
   "execution_count": 9,
   "id": "235fce76",
   "metadata": {},
   "outputs": [
    {
     "data": {
      "text/html": [
       "<div>\n",
       "<style scoped>\n",
       "    .dataframe tbody tr th:only-of-type {\n",
       "        vertical-align: middle;\n",
       "    }\n",
       "\n",
       "    .dataframe tbody tr th {\n",
       "        vertical-align: top;\n",
       "    }\n",
       "\n",
       "    .dataframe thead th {\n",
       "        text-align: right;\n",
       "    }\n",
       "</style>\n",
       "<table border=\"1\" class=\"dataframe\">\n",
       "  <thead>\n",
       "    <tr style=\"text-align: right;\">\n",
       "      <th>ano</th>\n",
       "      <th>20X1</th>\n",
       "      <th>20X2</th>\n",
       "      <th>20X3</th>\n",
       "    </tr>\n",
       "    <tr>\n",
       "      <th>avaliacao</th>\n",
       "      <th></th>\n",
       "      <th></th>\n",
       "      <th></th>\n",
       "    </tr>\n",
       "  </thead>\n",
       "  <tbody>\n",
       "    <tr>\n",
       "      <th>Concordo Parcialmente</th>\n",
       "      <td>1066</td>\n",
       "      <td>996</td>\n",
       "      <td>0</td>\n",
       "    </tr>\n",
       "    <tr>\n",
       "      <th>Concordo Totalmente</th>\n",
       "      <td>966</td>\n",
       "      <td>0</td>\n",
       "      <td>0</td>\n",
       "    </tr>\n",
       "    <tr>\n",
       "      <th>Discordo Parcialmente</th>\n",
       "      <td>1</td>\n",
       "      <td>998</td>\n",
       "      <td>1005</td>\n",
       "    </tr>\n",
       "    <tr>\n",
       "      <th>Discordo Totalmente</th>\n",
       "      <td>0</td>\n",
       "      <td>1</td>\n",
       "      <td>997</td>\n",
       "    </tr>\n",
       "    <tr>\n",
       "      <th>Nem Concordo, Nem Discordo</th>\n",
       "      <td>967</td>\n",
       "      <td>1005</td>\n",
       "      <td>998</td>\n",
       "    </tr>\n",
       "  </tbody>\n",
       "</table>\n",
       "</div>"
      ],
      "text/plain": [
       "ano                         20X1  20X2  20X3\n",
       "avaliacao                                   \n",
       "Concordo Parcialmente       1066   996     0\n",
       "Concordo Totalmente          966     0     0\n",
       "Discordo Parcialmente          1   998  1005\n",
       "Discordo Totalmente            0     1   997\n",
       "Nem Concordo, Nem Discordo   967  1005   998"
      ]
     },
     "execution_count": 9,
     "metadata": {},
     "output_type": "execute_result"
    }
   ],
   "source": [
    "tabela_contingencia"
   ]
  },
  {
   "cell_type": "markdown",
   "id": "a30c60bd",
   "metadata": {},
   "source": [
    "# Análise dos Resíduos Padronizados Ajustados\n",
    "\n",
    "Verificamos que existe a associação entre os pares de variáveis através do qui-quadrado mas ainda não sabemos de onde essa associação está vindo.\n",
    "\n",
    "Para avaliar de onde vem a associação, utilizamos os Resíduos Padronizados Ajustados > 1.96\n",
    "\n",
    "Aplicaremos o módulo statsmodels.api \n"
   ]
  },
  {
   "cell_type": "code",
   "execution_count": 10,
   "id": "7cd73094",
   "metadata": {},
   "outputs": [
    {
     "data": {
      "text/plain": [
       "<AxesSubplot:xlabel='avaliacao', ylabel='ano'>"
      ]
     },
     "execution_count": 10,
     "metadata": {},
     "output_type": "execute_result"
    },
    {
     "data": {
      "image/png": "[encoded data removed]",
      "text/plain": [
       "<Figure size 640x480 with 2 Axes>"
      ]
     },
     "metadata": {},
     "output_type": "display_data"
    }
   ],
   "source": [
    "import statsmodels.api as sm\n",
    "\n",
    "# Resíduos Padronizados Ajustados\n",
    "tabela = sm.stats.Table(tabela_contingencia.T)\n",
    "\n",
    "#Heatmap\n",
    "sns.heatmap(tabela.standardized_resids,\n",
    "           cmap='viridis_r',\n",
    "           annot=True,\n",
    "           center=1.96,\n",
    "           vmin=1,\n",
    "           vmax=2,\n",
    "           robust=True)"
   ]
  },
  {
   "cell_type": "markdown",
   "id": "5171d4c8",
   "metadata": {},
   "source": [
    "**Percebe-se uma piora na avaliação de 2001 para 2003.**"
   ]
  },
  {
   "cell_type": "markdown",
   "id": "5fdbbbbe",
   "metadata": {},
   "source": [
    "## Mapa Perceptual"
   ]
  },
  {
   "cell_type": "code",
   "execution_count": 12,
   "id": "983ef1e8",
   "metadata": {},
   "outputs": [],
   "source": [
    "import prince\n",
    "\n",
    "#Qtde de dimensões para Análise de Correspondência Simples (SCA)\n",
    "n = min(tabela_contingencia.columns.size -1, tabela_contingencia.index.size -1)\n",
    "\n",
    "ca = prince.CA(n_components=n)\n",
    "ca = ca.fit(tabela_contingencia)"
   ]
  },
  {
   "cell_type": "code",
   "execution_count": 13,
   "id": "92ba357a",
   "metadata": {},
   "outputs": [
    {
     "data": {
      "text/plain": [
       "<AxesSubplot:title={'center':'Principal coordinates'}, xlabel='Component 0 (75.96% inertia)', ylabel='Component 1 (24.04% inertia)'>"
      ]
     },
     "execution_count": 13,
     "metadata": {},
     "output_type": "execute_result"
    },
    {
     "data": {
      "image/png": "[encoded data removed]",
      "text/plain": [
       "<Figure size 600x600 with 1 Axes>"
      ]
     },
     "metadata": {},
     "output_type": "display_data"
    }
   ],
   "source": [
    "ca.plot_coordinates(tabela_contingencia)"
   ]
  },
  {
   "cell_type": "markdown",
   "id": "97754288",
   "metadata": {},
   "source": [
    "<center><b>Houve uma piora na avaliação das pessoas com relação à gestão municipal</b></center>"
   ]
  },
  {
   "cell_type": "code",
   "execution_count": null,
   "id": "8a448d1b",
   "metadata": {},
   "outputs": [],
   "source": []
  }
 ],
 "metadata": {
  "kernelspec": {
   "display_name": "Python 3 (ipykernel)",
   "language": "python",
   "name": "python3"
  },
  "language_info": {
   "codemirror_mode": {
    "name": "ipython",
    "version": 3
   },
   "file_extension": ".py",
   "mimetype": "text/x-python",
   "name": "python",
   "nbconvert_exporter": "python",
   "pygments_lexer": "ipython3",
   "version": "3.9.13"
  }
 },
 "nbformat": 4,
 "nbformat_minor": 5
}
