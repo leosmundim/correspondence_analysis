{
 "cells": [
  {
   "cell_type": "code",
   "execution_count": 1,
   "id": "a48a8a8d",
   "metadata": {},
   "outputs": [],
   "source": [
    "import pandas as pd\n",
    "import numpy as np\n",
    "import seaborn as sns\n",
    "import pyreadr\n",
    "import rdata\n",
    "import matplotlib as plt"
   ]
  },
  {
   "cell_type": "markdown",
   "id": "a089ce28",
   "metadata": {},
   "source": [
    "# Análise de Correspondência Simples\n",
    "\n",
    "**Técnica Não Supervisionada**\n",
    "\n",
    "Exemplo da aula do MBA DSA USP/ESALQ com Prof. Wilson Tarantin Jr.\n",
    "\n",
    "Fonte: Fávero e Belfiore, MANUAL DE ANÁLISE DE DADOS, Capítulo 11\n",
    "\n",
    "- Referência: https://www.kaggle.com/code/jiagengchang/heart-disease-multiple-correspondence-analysis/notebook\n",
    "\n",
    "- Documentação: https://pypi.org/project/prince/#correspondence-analysis-ca\n",
    "\n",
    "\n",
    "### Aplicabilidade\n",
    "\n",
    "Técnica adequada para a análise de variáveis qualitativas.\n",
    "\n",
    ">Verificar se existe associação estatisticamente significativa entre as variáveis e suas categorias. <br>\n",
    "\n",
    ">Verificar como as categorias se associam entre elas.\n",
    "\n",
    ">Construção do mapa perceptual para visualizar essas associações.\n",
    "\n",
    "<b>Para variáveis quantitativas é necessários transformá-las em variáveis categóricas. Criando faixas/categorias.</b>\n",
    "\n",
    "\n",
    "### Objetivo da Análise\n",
    "\n",
    "Verificar se existe associações entre o perfil e o tipo de investimento dentre os 100 estudantes analisados."
   ]
  },
  {
   "cell_type": "code",
   "execution_count": 2,
   "id": "100a8c70",
   "metadata": {},
   "outputs": [
    {
     "name": "stdout",
     "output_type": "stream",
     "text": [
      "odict_keys(['perfil_investidor_aplicacao'])\n"
     ]
    }
   ],
   "source": [
    "#Importa base e transforma em objeto\n",
    "rData = pyreadr.read_r(r'bases\\perfil_investidor_aplicacao.RData')\n",
    "\n",
    "#Verifica o nomne do objeto\n",
    "print(rData.keys())"
   ]
  },
  {
   "cell_type": "code",
   "execution_count": 3,
   "id": "df9353c6",
   "metadata": {},
   "outputs": [],
   "source": [
    "#Transforma o objeto em um pandas DataFrame\n",
    "perfil_investidor = rData['perfil_investidor_aplicacao']"
   ]
  },
  {
   "cell_type": "code",
   "execution_count": 4,
   "id": "ea3280f5",
   "metadata": {},
   "outputs": [
    {
     "data": {
      "text/html": [
       "<div>\n",
       "<style scoped>\n",
       "    .dataframe tbody tr th:only-of-type {\n",
       "        vertical-align: middle;\n",
       "    }\n",
       "\n",
       "    .dataframe tbody tr th {\n",
       "        vertical-align: top;\n",
       "    }\n",
       "\n",
       "    .dataframe thead th {\n",
       "        text-align: right;\n",
       "    }\n",
       "</style>\n",
       "<table border=\"1\" class=\"dataframe\">\n",
       "  <thead>\n",
       "    <tr style=\"text-align: right;\">\n",
       "      <th></th>\n",
       "      <th>estudante</th>\n",
       "      <th>perfil</th>\n",
       "      <th>aplicacao</th>\n",
       "    </tr>\n",
       "  </thead>\n",
       "  <tbody>\n",
       "    <tr>\n",
       "      <th>0</th>\n",
       "      <td>Gabriela</td>\n",
       "      <td>Conservador</td>\n",
       "      <td>Poupanca</td>\n",
       "    </tr>\n",
       "    <tr>\n",
       "      <th>1</th>\n",
       "      <td>Luiz Felipe</td>\n",
       "      <td>Conservador</td>\n",
       "      <td>Poupanca</td>\n",
       "    </tr>\n",
       "    <tr>\n",
       "      <th>2</th>\n",
       "      <td>Patrícia</td>\n",
       "      <td>Conservador</td>\n",
       "      <td>Poupanca</td>\n",
       "    </tr>\n",
       "    <tr>\n",
       "      <th>3</th>\n",
       "      <td>Gustavo</td>\n",
       "      <td>Conservador</td>\n",
       "      <td>Poupanca</td>\n",
       "    </tr>\n",
       "    <tr>\n",
       "      <th>4</th>\n",
       "      <td>Letícia</td>\n",
       "      <td>Conservador</td>\n",
       "      <td>Poupanca</td>\n",
       "    </tr>\n",
       "    <tr>\n",
       "      <th>...</th>\n",
       "      <td>...</td>\n",
       "      <td>...</td>\n",
       "      <td>...</td>\n",
       "    </tr>\n",
       "    <tr>\n",
       "      <th>95</th>\n",
       "      <td>Sheila</td>\n",
       "      <td>Agressivo</td>\n",
       "      <td>Acoes</td>\n",
       "    </tr>\n",
       "    <tr>\n",
       "      <th>96</th>\n",
       "      <td>Pedro</td>\n",
       "      <td>Agressivo</td>\n",
       "      <td>Acoes</td>\n",
       "    </tr>\n",
       "    <tr>\n",
       "      <th>97</th>\n",
       "      <td>Horácio</td>\n",
       "      <td>Agressivo</td>\n",
       "      <td>Acoes</td>\n",
       "    </tr>\n",
       "    <tr>\n",
       "      <th>98</th>\n",
       "      <td>Leandro</td>\n",
       "      <td>Agressivo</td>\n",
       "      <td>Acoes</td>\n",
       "    </tr>\n",
       "    <tr>\n",
       "      <th>99</th>\n",
       "      <td>Estela</td>\n",
       "      <td>Agressivo</td>\n",
       "      <td>Acoes</td>\n",
       "    </tr>\n",
       "  </tbody>\n",
       "</table>\n",
       "<p>100 rows × 3 columns</p>\n",
       "</div>"
      ],
      "text/plain": [
       "      estudante       perfil aplicacao\n",
       "0      Gabriela  Conservador  Poupanca\n",
       "1   Luiz Felipe  Conservador  Poupanca\n",
       "2      Patrícia  Conservador  Poupanca\n",
       "3       Gustavo  Conservador  Poupanca\n",
       "4       Letícia  Conservador  Poupanca\n",
       "..          ...          ...       ...\n",
       "95       Sheila    Agressivo     Acoes\n",
       "96        Pedro    Agressivo     Acoes\n",
       "97      Horácio    Agressivo     Acoes\n",
       "98      Leandro    Agressivo     Acoes\n",
       "99       Estela    Agressivo     Acoes\n",
       "\n",
       "[100 rows x 3 columns]"
      ]
     },
     "execution_count": 4,
     "metadata": {},
     "output_type": "execute_result"
    }
   ],
   "source": [
    "perfil_investidor"
   ]
  },
  {
   "cell_type": "markdown",
   "id": "390b47b8",
   "metadata": {},
   "source": [
    "## Análise Descritiva"
   ]
  },
  {
   "cell_type": "code",
   "execution_count": 5,
   "id": "c52d6dc1",
   "metadata": {},
   "outputs": [
    {
     "data": {
      "text/html": [
       "<div>\n",
       "<style scoped>\n",
       "    .dataframe tbody tr th:only-of-type {\n",
       "        vertical-align: middle;\n",
       "    }\n",
       "\n",
       "    .dataframe tbody tr th {\n",
       "        vertical-align: top;\n",
       "    }\n",
       "\n",
       "    .dataframe thead th {\n",
       "        text-align: right;\n",
       "    }\n",
       "</style>\n",
       "<table border=\"1\" class=\"dataframe\">\n",
       "  <thead>\n",
       "    <tr style=\"text-align: right;\">\n",
       "      <th></th>\n",
       "      <th>estudante</th>\n",
       "      <th>perfil</th>\n",
       "      <th>aplicacao</th>\n",
       "    </tr>\n",
       "  </thead>\n",
       "  <tbody>\n",
       "    <tr>\n",
       "      <th>count</th>\n",
       "      <td>100</td>\n",
       "      <td>100</td>\n",
       "      <td>100</td>\n",
       "    </tr>\n",
       "    <tr>\n",
       "      <th>unique</th>\n",
       "      <td>100</td>\n",
       "      <td>3</td>\n",
       "      <td>3</td>\n",
       "    </tr>\n",
       "    <tr>\n",
       "      <th>top</th>\n",
       "      <td>Gabriela</td>\n",
       "      <td>Agressivo</td>\n",
       "      <td>Acoes</td>\n",
       "    </tr>\n",
       "    <tr>\n",
       "      <th>freq</th>\n",
       "      <td>1</td>\n",
       "      <td>58</td>\n",
       "      <td>45</td>\n",
       "    </tr>\n",
       "  </tbody>\n",
       "</table>\n",
       "</div>"
      ],
      "text/plain": [
       "       estudante     perfil aplicacao\n",
       "count        100        100       100\n",
       "unique       100          3         3\n",
       "top     Gabriela  Agressivo     Acoes\n",
       "freq           1         58        45"
      ]
     },
     "execution_count": 5,
     "metadata": {},
     "output_type": "execute_result"
    }
   ],
   "source": [
    "#Análise Descritiva\n",
    "perfil_investidor.describe()"
   ]
  },
  {
   "cell_type": "code",
   "execution_count": 6,
   "id": "a65773b1",
   "metadata": {},
   "outputs": [
    {
     "data": {
      "text/plain": [
       "<AxesSubplot:title={'center':'Perfil'}, ylabel='Count'>"
      ]
     },
     "execution_count": 6,
     "metadata": {},
     "output_type": "execute_result"
    },
    {
     "data": {
      "image/png": "[encoded data removed]",
      "text/plain": [
       "<Figure size 640x480 with 1 Axes>"
      ]
     },
     "metadata": {},
     "output_type": "display_data"
    }
   ],
   "source": [
    "perfil_investidor.perfil.value_counts().plot(kind=\"bar\",\n",
    "                           title=\"Perfil\",\n",
    "                           rot=15,\n",
    "                           #xlabel=\"perfil\",\n",
    "                           ylabel=\"Count\")"
   ]
  },
  {
   "cell_type": "code",
   "execution_count": 7,
   "id": "c0761211",
   "metadata": {},
   "outputs": [
    {
     "data": {
      "text/plain": [
       "<AxesSubplot:title={'center':'Aplicacao'}, ylabel='Count'>"
      ]
     },
     "execution_count": 7,
     "metadata": {},
     "output_type": "execute_result"
    },
    {
     "data": {
      "image/png": "[encoded data removed]",
      "text/plain": [
       "<Figure size 640x480 with 1 Axes>"
      ]
     },
     "metadata": {},
     "output_type": "display_data"
    }
   ],
   "source": [
    "perfil_investidor.aplicacao.value_counts().plot(kind=\"bar\",\n",
    "                           title=\"Aplicacao\",\n",
    "                           rot=15,\n",
    "                           #xlabel=\"Aplicacao\",\n",
    "                           ylabel=\"Count\")"
   ]
  },
  {
   "cell_type": "markdown",
   "id": "9e4a47ac",
   "metadata": {},
   "source": [
    "# Análise da Significância Estatística\n",
    "\n",
    "Teste de associação qui-quadrado para avaliar a significância para pares de variáveis.\n",
    "\n",
    "Soma das estatísticas qui2 individuais para cada par de variável. <br>\n",
    "A partir da estatística qui2 total testaremos as hipóteses:\n",
    "\n",
    "> H0: não existe associação entre as variáveis <br>\n",
    "> H1: existe associação entre as variáveis\n",
    "\n",
    "p-valor < 0,05 rejeita H0."
   ]
  },
  {
   "cell_type": "markdown",
   "id": "889f2618",
   "metadata": {},
   "source": [
    "### Tabela de Contingência\n",
    "\n",
    "Tabela com as contagens das frequências das categorias"
   ]
  },
  {
   "cell_type": "code",
   "execution_count": 8,
   "id": "9d2c88fd",
   "metadata": {},
   "outputs": [
    {
     "data": {
      "text/html": [
       "<div>\n",
       "<style scoped>\n",
       "    .dataframe tbody tr th:only-of-type {\n",
       "        vertical-align: middle;\n",
       "    }\n",
       "\n",
       "    .dataframe tbody tr th {\n",
       "        vertical-align: top;\n",
       "    }\n",
       "\n",
       "    .dataframe thead th {\n",
       "        text-align: right;\n",
       "    }\n",
       "</style>\n",
       "<table border=\"1\" class=\"dataframe\">\n",
       "  <thead>\n",
       "    <tr style=\"text-align: right;\">\n",
       "      <th>aplicacao</th>\n",
       "      <th>Acoes</th>\n",
       "      <th>CDB</th>\n",
       "      <th>Poupanca</th>\n",
       "    </tr>\n",
       "    <tr>\n",
       "      <th>perfil</th>\n",
       "      <th></th>\n",
       "      <th></th>\n",
       "      <th></th>\n",
       "    </tr>\n",
       "  </thead>\n",
       "  <tbody>\n",
       "    <tr>\n",
       "      <th>Agressivo</th>\n",
       "      <td>36</td>\n",
       "      <td>20</td>\n",
       "      <td>2</td>\n",
       "    </tr>\n",
       "    <tr>\n",
       "      <th>Conservador</th>\n",
       "      <td>5</td>\n",
       "      <td>4</td>\n",
       "      <td>8</td>\n",
       "    </tr>\n",
       "    <tr>\n",
       "      <th>Moderado</th>\n",
       "      <td>4</td>\n",
       "      <td>16</td>\n",
       "      <td>5</td>\n",
       "    </tr>\n",
       "  </tbody>\n",
       "</table>\n",
       "</div>"
      ],
      "text/plain": [
       "aplicacao    Acoes  CDB  Poupanca\n",
       "perfil                           \n",
       "Agressivo       36   20         2\n",
       "Conservador      5    4         8\n",
       "Moderado         4   16         5"
      ]
     },
     "execution_count": 8,
     "metadata": {},
     "output_type": "execute_result"
    }
   ],
   "source": [
    "#Criando tabela de contingência\n",
    "tabela_contingencia = pd.crosstab(perfil_investidor['perfil'],\n",
    "                                 perfil_investidor['aplicacao'])\n",
    "tabela_contingencia"
   ]
  },
  {
   "cell_type": "markdown",
   "id": "37d42761",
   "metadata": {},
   "source": [
    "### Cálculo da Significância utilizando Teste Qui-quadrado\n",
    "\n",
    "Nesse caso:\n",
    "\n",
    "C (estatística qui2) = 31,764 <br>\n",
    "p (p-valor) = 0 <br>\n",
    "dof (graus de liberdade) = 4<br>\n",
    "expected (tabela com valores esperados)<br>\n",
    "\n",
    "\n",
    "p-value = 0, rejeita-se H0. <br>\n",
    "Temos associação estatisticamente significativas entre as categorias."
   ]
  },
  {
   "cell_type": "code",
   "execution_count": 9,
   "id": "c2f1cbad",
   "metadata": {},
   "outputs": [],
   "source": [
    "# Calculando QUI2\n",
    "\n",
    "from scipy.stats import chi2_contingency\n",
    "c, p, dof, expected = chi2_contingency(tabela_contingencia)"
   ]
  },
  {
   "cell_type": "code",
   "execution_count": 10,
   "id": "add880ec",
   "metadata": {},
   "outputs": [
    {
     "name": "stdout",
     "output_type": "stream",
     "text": [
      "qui2: 31.764, df: 4, p-value: 0.00\n"
     ]
    }
   ],
   "source": [
    "print(f'qui2: {c:.3f}, df: {dof}, p-value: {p:.2f}')"
   ]
  },
  {
   "cell_type": "markdown",
   "id": "f5633add",
   "metadata": {},
   "source": [
    "## OBS.:\n",
    "\n",
    "As Tabelas de Frequências Esperadas ou Resíduos são utilizadas para encontrar a estatística Qui-quadrado da tabela de Contingência e verificar a significância estatística."
   ]
  },
  {
   "cell_type": "markdown",
   "id": "e27cc7f1",
   "metadata": {},
   "source": [
    "### Tabela de Frequências Esperadas"
   ]
  },
  {
   "cell_type": "code",
   "execution_count": 11,
   "id": "c5abb5eb",
   "metadata": {},
   "outputs": [
    {
     "data": {
      "text/html": [
       "<div>\n",
       "<style scoped>\n",
       "    .dataframe tbody tr th:only-of-type {\n",
       "        vertical-align: middle;\n",
       "    }\n",
       "\n",
       "    .dataframe tbody tr th {\n",
       "        vertical-align: top;\n",
       "    }\n",
       "\n",
       "    .dataframe thead th {\n",
       "        text-align: right;\n",
       "    }\n",
       "</style>\n",
       "<table border=\"1\" class=\"dataframe\">\n",
       "  <thead>\n",
       "    <tr style=\"text-align: right;\">\n",
       "      <th>aplicacao</th>\n",
       "      <th>Acoes</th>\n",
       "      <th>CDB</th>\n",
       "      <th>Poupanca</th>\n",
       "    </tr>\n",
       "    <tr>\n",
       "      <th>perfil</th>\n",
       "      <th></th>\n",
       "      <th></th>\n",
       "      <th></th>\n",
       "    </tr>\n",
       "  </thead>\n",
       "  <tbody>\n",
       "    <tr>\n",
       "      <th>Agressivo</th>\n",
       "      <td>26.10</td>\n",
       "      <td>23.2</td>\n",
       "      <td>8.70</td>\n",
       "    </tr>\n",
       "    <tr>\n",
       "      <th>Conservador</th>\n",
       "      <td>7.65</td>\n",
       "      <td>6.8</td>\n",
       "      <td>2.55</td>\n",
       "    </tr>\n",
       "    <tr>\n",
       "      <th>Moderado</th>\n",
       "      <td>11.25</td>\n",
       "      <td>10.0</td>\n",
       "      <td>3.75</td>\n",
       "    </tr>\n",
       "  </tbody>\n",
       "</table>\n",
       "</div>"
      ],
      "text/plain": [
       "aplicacao    Acoes   CDB  Poupanca\n",
       "perfil                            \n",
       "Agressivo    26.10  23.2      8.70\n",
       "Conservador   7.65   6.8      2.55\n",
       "Moderado     11.25  10.0      3.75"
      ]
     },
     "execution_count": 11,
     "metadata": {},
     "output_type": "execute_result"
    }
   ],
   "source": [
    "# Frequências Absolutas Esperadas\n",
    "\n",
    "freq_expec = pd.DataFrame(expected,\n",
    "                         index = tabela_contingencia.index,\n",
    "                         columns = tabela_contingencia.columns)\n",
    "freq_expec"
   ]
  },
  {
   "cell_type": "markdown",
   "id": "54e60d0d",
   "metadata": {},
   "source": [
    "### Resíduos"
   ]
  },
  {
   "cell_type": "code",
   "execution_count": 12,
   "id": "2d41a102",
   "metadata": {},
   "outputs": [
    {
     "data": {
      "text/html": [
       "<div>\n",
       "<style scoped>\n",
       "    .dataframe tbody tr th:only-of-type {\n",
       "        vertical-align: middle;\n",
       "    }\n",
       "\n",
       "    .dataframe tbody tr th {\n",
       "        vertical-align: top;\n",
       "    }\n",
       "\n",
       "    .dataframe thead th {\n",
       "        text-align: right;\n",
       "    }\n",
       "</style>\n",
       "<table border=\"1\" class=\"dataframe\">\n",
       "  <thead>\n",
       "    <tr style=\"text-align: right;\">\n",
       "      <th>aplicacao</th>\n",
       "      <th>Acoes</th>\n",
       "      <th>CDB</th>\n",
       "      <th>Poupanca</th>\n",
       "    </tr>\n",
       "    <tr>\n",
       "      <th>perfil</th>\n",
       "      <th></th>\n",
       "      <th></th>\n",
       "      <th></th>\n",
       "    </tr>\n",
       "  </thead>\n",
       "  <tbody>\n",
       "    <tr>\n",
       "      <th>Agressivo</th>\n",
       "      <td>9.90</td>\n",
       "      <td>-3.2</td>\n",
       "      <td>-6.70</td>\n",
       "    </tr>\n",
       "    <tr>\n",
       "      <th>Conservador</th>\n",
       "      <td>-2.65</td>\n",
       "      <td>-2.8</td>\n",
       "      <td>5.45</td>\n",
       "    </tr>\n",
       "    <tr>\n",
       "      <th>Moderado</th>\n",
       "      <td>-7.25</td>\n",
       "      <td>6.0</td>\n",
       "      <td>1.25</td>\n",
       "    </tr>\n",
       "  </tbody>\n",
       "</table>\n",
       "</div>"
      ],
      "text/plain": [
       "aplicacao    Acoes  CDB  Poupanca\n",
       "perfil                           \n",
       "Agressivo     9.90 -3.2     -6.70\n",
       "Conservador  -2.65 -2.8      5.45\n",
       "Moderado     -7.25  6.0      1.25"
      ]
     },
     "execution_count": 12,
     "metadata": {},
     "output_type": "execute_result"
    }
   ],
   "source": [
    "# Resíduos\n",
    "residuos = tabela_contingencia - freq_expec\n",
    "residuos"
   ]
  },
  {
   "cell_type": "markdown",
   "id": "b3d02622",
   "metadata": {},
   "source": [
    "## Cálculo da Estatística Qui2 utilizando as tabelas\n",
    "\n",
    "A soma dos valores qui-quadrado de cada célula é o valor total da estatística qui2 calculada anteriormente de 31,764 acarretando em um p-valor = 0"
   ]
  },
  {
   "cell_type": "code",
   "execution_count": 13,
   "id": "b802f8cc",
   "metadata": {},
   "outputs": [
    {
     "data": {
      "text/html": [
       "<div>\n",
       "<style scoped>\n",
       "    .dataframe tbody tr th:only-of-type {\n",
       "        vertical-align: middle;\n",
       "    }\n",
       "\n",
       "    .dataframe tbody tr th {\n",
       "        vertical-align: top;\n",
       "    }\n",
       "\n",
       "    .dataframe thead th {\n",
       "        text-align: right;\n",
       "    }\n",
       "</style>\n",
       "<table border=\"1\" class=\"dataframe\">\n",
       "  <thead>\n",
       "    <tr style=\"text-align: right;\">\n",
       "      <th>aplicacao</th>\n",
       "      <th>Acoes</th>\n",
       "      <th>CDB</th>\n",
       "      <th>Poupanca</th>\n",
       "    </tr>\n",
       "    <tr>\n",
       "      <th>perfil</th>\n",
       "      <th></th>\n",
       "      <th></th>\n",
       "      <th></th>\n",
       "    </tr>\n",
       "  </thead>\n",
       "  <tbody>\n",
       "    <tr>\n",
       "      <th>Agressivo</th>\n",
       "      <td>3.755172</td>\n",
       "      <td>0.441379</td>\n",
       "      <td>5.159770</td>\n",
       "    </tr>\n",
       "    <tr>\n",
       "      <th>Conservador</th>\n",
       "      <td>0.917974</td>\n",
       "      <td>1.152941</td>\n",
       "      <td>11.648039</td>\n",
       "    </tr>\n",
       "    <tr>\n",
       "      <th>Moderado</th>\n",
       "      <td>4.672222</td>\n",
       "      <td>3.600000</td>\n",
       "      <td>0.416667</td>\n",
       "    </tr>\n",
       "  </tbody>\n",
       "</table>\n",
       "</div>"
      ],
      "text/plain": [
       "aplicacao       Acoes       CDB   Poupanca\n",
       "perfil                                    \n",
       "Agressivo    3.755172  0.441379   5.159770\n",
       "Conservador  0.917974  1.152941  11.648039\n",
       "Moderado     4.672222  3.600000   0.416667"
      ]
     },
     "execution_count": 13,
     "metadata": {},
     "output_type": "execute_result"
    }
   ],
   "source": [
    "# Valores qui-quadrado por célula\n",
    "\n",
    "qui2_cel = ((tabela_contingencia - freq_expec)**2)/freq_expec\n",
    "qui2_cel"
   ]
  },
  {
   "cell_type": "code",
   "execution_count": 14,
   "id": "9c808d32",
   "metadata": {},
   "outputs": [
    {
     "data": {
      "text/plain": [
       "31.764164976335362"
      ]
     },
     "execution_count": 14,
     "metadata": {},
     "output_type": "execute_result"
    }
   ],
   "source": [
    "qui2_cel.sum().sum()"
   ]
  },
  {
   "cell_type": "markdown",
   "id": "8f925df6",
   "metadata": {},
   "source": [
    "# Análise dos Resíduos\n",
    "\n",
    "Verificamos que existe a associação entre os pares de variáveis através do qui-quadrado mas ainda não sabemos de onde essa associação está vindo.\n",
    "\n",
    "Para avaliar de onde vem a associação, utilizamos o Resíduos Padronizado Ajustado > 1.96\n",
    "\n",
    "A tabela Resíduos Padronizado é apenas uma etapa para chegar na tabela de Resíduos Padronizados Ajustados.\n",
    "\n"
   ]
  },
  {
   "cell_type": "markdown",
   "id": "24182584",
   "metadata": {},
   "source": [
    "### Resíduos Padronizados"
   ]
  },
  {
   "cell_type": "code",
   "execution_count": 15,
   "id": "2e911c09",
   "metadata": {},
   "outputs": [
    {
     "data": {
      "text/html": [
       "<div>\n",
       "<style scoped>\n",
       "    .dataframe tbody tr th:only-of-type {\n",
       "        vertical-align: middle;\n",
       "    }\n",
       "\n",
       "    .dataframe tbody tr th {\n",
       "        vertical-align: top;\n",
       "    }\n",
       "\n",
       "    .dataframe thead th {\n",
       "        text-align: right;\n",
       "    }\n",
       "</style>\n",
       "<table border=\"1\" class=\"dataframe\">\n",
       "  <thead>\n",
       "    <tr style=\"text-align: right;\">\n",
       "      <th>aplicacao</th>\n",
       "      <th>Acoes</th>\n",
       "      <th>CDB</th>\n",
       "      <th>Poupanca</th>\n",
       "    </tr>\n",
       "    <tr>\n",
       "      <th>perfil</th>\n",
       "      <th></th>\n",
       "      <th></th>\n",
       "      <th></th>\n",
       "    </tr>\n",
       "  </thead>\n",
       "  <tbody>\n",
       "    <tr>\n",
       "      <th>Agressivo</th>\n",
       "      <td>1.937827</td>\n",
       "      <td>-0.664364</td>\n",
       "      <td>-2.271513</td>\n",
       "    </tr>\n",
       "    <tr>\n",
       "      <th>Conservador</th>\n",
       "      <td>-0.958110</td>\n",
       "      <td>-1.073751</td>\n",
       "      <td>3.412922</td>\n",
       "    </tr>\n",
       "    <tr>\n",
       "      <th>Moderado</th>\n",
       "      <td>-2.161532</td>\n",
       "      <td>1.897367</td>\n",
       "      <td>0.645497</td>\n",
       "    </tr>\n",
       "  </tbody>\n",
       "</table>\n",
       "</div>"
      ],
      "text/plain": [
       "aplicacao       Acoes       CDB  Poupanca\n",
       "perfil                                   \n",
       "Agressivo    1.937827 -0.664364 -2.271513\n",
       "Conservador -0.958110 -1.073751  3.412922\n",
       "Moderado    -2.161532  1.897367  0.645497"
      ]
     },
     "execution_count": 15,
     "metadata": {},
     "output_type": "execute_result"
    }
   ],
   "source": [
    "import statsmodels.api as sm\n",
    "\n",
    "# Resíduos Padronizados\n",
    "tabela = sm.stats.Table(tabela_contingencia)\n",
    "residuos_pad = tabela.resid_pearson\n",
    "residuos_pad"
   ]
  },
  {
   "cell_type": "markdown",
   "id": "624c7f9f",
   "metadata": {},
   "source": [
    "### Resíduos Padronizados Ajustados\n",
    "\n",
    "Nos mostra de onde vem a associação.\n",
    "\n",
    "Resíduo Padronizado Ajustado acima de 1.96 significa que associação entre o par de categoria é estatisticamente significativo.\n",
    "\n",
    "1.96 é o valor crítico da normal padrão para o nível de significância de 5%.\n",
    "\n",
    "Sendo assim, no exemplo temos que:\n",
    "\n",
    "- O perfil Agressivo tem uma associação significativa com a aplicação Ações; <br>\n",
    "- O perfil Moderado tem uma associação significativa com a aplicação CDB;<br>\n",
    "- O perfil Conservador tem uma associação significativa com a aplicação Poupança.\n"
   ]
  },
  {
   "cell_type": "code",
   "execution_count": 16,
   "id": "3d623721",
   "metadata": {},
   "outputs": [
    {
     "data": {
      "text/html": [
       "<div>\n",
       "<style scoped>\n",
       "    .dataframe tbody tr th:only-of-type {\n",
       "        vertical-align: middle;\n",
       "    }\n",
       "\n",
       "    .dataframe tbody tr th {\n",
       "        vertical-align: top;\n",
       "    }\n",
       "\n",
       "    .dataframe thead th {\n",
       "        text-align: right;\n",
       "    }\n",
       "</style>\n",
       "<table border=\"1\" class=\"dataframe\">\n",
       "  <thead>\n",
       "    <tr style=\"text-align: right;\">\n",
       "      <th>aplicacao</th>\n",
       "      <th>Acoes</th>\n",
       "      <th>CDB</th>\n",
       "      <th>Poupanca</th>\n",
       "    </tr>\n",
       "    <tr>\n",
       "      <th>perfil</th>\n",
       "      <th></th>\n",
       "      <th></th>\n",
       "      <th></th>\n",
       "    </tr>\n",
       "  </thead>\n",
       "  <tbody>\n",
       "    <tr>\n",
       "      <th>Agressivo</th>\n",
       "      <td>4.031893</td>\n",
       "      <td>-1.323444</td>\n",
       "      <td>-3.801728</td>\n",
       "    </tr>\n",
       "    <tr>\n",
       "      <th>Conservador</th>\n",
       "      <td>-1.418061</td>\n",
       "      <td>-1.521559</td>\n",
       "      <td>4.063291</td>\n",
       "    </tr>\n",
       "    <tr>\n",
       "      <th>Moderado</th>\n",
       "      <td>-3.365501</td>\n",
       "      <td>2.828427</td>\n",
       "      <td>0.808452</td>\n",
       "    </tr>\n",
       "  </tbody>\n",
       "</table>\n",
       "</div>"
      ],
      "text/plain": [
       "aplicacao       Acoes       CDB  Poupanca\n",
       "perfil                                   \n",
       "Agressivo    4.031893 -1.323444 -3.801728\n",
       "Conservador -1.418061 -1.521559  4.063291\n",
       "Moderado    -3.365501  2.828427  0.808452"
      ]
     },
     "execution_count": 16,
     "metadata": {},
     "output_type": "execute_result"
    }
   ],
   "source": [
    "# Resíduos Padronizados Ajustados\n",
    "tabela.standardized_resids"
   ]
  },
  {
   "cell_type": "code",
   "execution_count": 17,
   "id": "dba02cd2",
   "metadata": {},
   "outputs": [
    {
     "data": {
      "text/plain": [
       "<AxesSubplot:xlabel='aplicacao', ylabel='perfil'>"
      ]
     },
     "execution_count": 17,
     "metadata": {},
     "output_type": "execute_result"
    },
    {
     "data": {
      "image/png": "[encoded data removed]",
      "text/plain": [
       "<Figure size 640x480 with 2 Axes>"
      ]
     },
     "metadata": {},
     "output_type": "display_data"
    }
   ],
   "source": [
    "sns.heatmap(tabela.standardized_resids,\n",
    "           cmap='viridis_r',\n",
    "           annot=True,\n",
    "           center=1.96,\n",
    "           vmin=1,\n",
    "           vmax=2,\n",
    "           robust=True)"
   ]
  },
  {
   "cell_type": "markdown",
   "id": "5217aa91",
   "metadata": {},
   "source": [
    "# Construção dos Autovalores e Autovetores para o mapa Perceptual\n",
    "\n",
    "A quantidade de Autovalores que vão representar as dimensões para a construção do mapa perceptual é calculada pelo mínimo entre a quantidade de categorias em linhas - 1 e quantidade de categorias em colunas - 1. <br>\n",
    "No caso desse exemplo temos duas variáveis com 3 categorias cada uma min(3-1, 3-1) = 2.\n",
    "\n",
    "Para cada autovalor gerado, teremos 2 autovetores para definir as coordenadas X, Y de cada categoria para ser plotado no mapa perceptual, ou seja, para cada autovalor gera-se sempre os autovetores da variável em linha (u) e o autovetor da variável em coluna (v).\n"
   ]
  },
  {
   "cell_type": "markdown",
   "id": "893c3b1c",
   "metadata": {},
   "source": [
    "## Matrizes A e W para Construção do Autovalor"
   ]
  },
  {
   "cell_type": "markdown",
   "id": "c4562b9d",
   "metadata": {},
   "source": [
    "### Matriz A\n",
    "\n",
    "Utilizada para construir a matriz W"
   ]
  },
  {
   "cell_type": "code",
   "execution_count": 18,
   "id": "eb7fc90e",
   "metadata": {},
   "outputs": [
    {
     "data": {
      "text/html": [
       "<div>\n",
       "<style scoped>\n",
       "    .dataframe tbody tr th:only-of-type {\n",
       "        vertical-align: middle;\n",
       "    }\n",
       "\n",
       "    .dataframe tbody tr th {\n",
       "        vertical-align: top;\n",
       "    }\n",
       "\n",
       "    .dataframe thead th {\n",
       "        text-align: right;\n",
       "    }\n",
       "</style>\n",
       "<table border=\"1\" class=\"dataframe\">\n",
       "  <thead>\n",
       "    <tr style=\"text-align: right;\">\n",
       "      <th>aplicacao</th>\n",
       "      <th>Acoes</th>\n",
       "      <th>CDB</th>\n",
       "      <th>Poupanca</th>\n",
       "    </tr>\n",
       "    <tr>\n",
       "      <th>perfil</th>\n",
       "      <th></th>\n",
       "      <th></th>\n",
       "      <th></th>\n",
       "    </tr>\n",
       "  </thead>\n",
       "  <tbody>\n",
       "    <tr>\n",
       "      <th>Agressivo</th>\n",
       "      <td>0.193783</td>\n",
       "      <td>-0.066436</td>\n",
       "      <td>-0.227151</td>\n",
       "    </tr>\n",
       "    <tr>\n",
       "      <th>Conservador</th>\n",
       "      <td>-0.095811</td>\n",
       "      <td>-0.107375</td>\n",
       "      <td>0.341292</td>\n",
       "    </tr>\n",
       "    <tr>\n",
       "      <th>Moderado</th>\n",
       "      <td>-0.216153</td>\n",
       "      <td>0.189737</td>\n",
       "      <td>0.064550</td>\n",
       "    </tr>\n",
       "  </tbody>\n",
       "</table>\n",
       "</div>"
      ],
      "text/plain": [
       "aplicacao       Acoes       CDB  Poupanca\n",
       "perfil                                   \n",
       "Agressivo    0.193783 -0.066436 -0.227151\n",
       "Conservador -0.095811 -0.107375  0.341292\n",
       "Moderado    -0.216153  0.189737  0.064550"
      ]
     },
     "execution_count": 18,
     "metadata": {},
     "output_type": "execute_result"
    }
   ],
   "source": [
    "# Criação da Matriz A\n",
    "#Residuos Padronizados divididos pela raiz quadrada do tamanho da amostra\n",
    "\n",
    "n = perfil_investidor['estudante'].count()\n",
    "\n",
    "matrizA = residuos_pad/n**(1/2)\n",
    "matrizA"
   ]
  },
  {
   "cell_type": "markdown",
   "id": "8c2581b8",
   "metadata": {},
   "source": [
    "### Matriz W\n",
    "\n",
    "Utilizada para extrair os autovalores"
   ]
  },
  {
   "cell_type": "code",
   "execution_count": 19,
   "id": "279782be",
   "metadata": {},
   "outputs": [
    {
     "data": {
      "text/html": [
       "<div>\n",
       "<style scoped>\n",
       "    .dataframe tbody tr th:only-of-type {\n",
       "        vertical-align: middle;\n",
       "    }\n",
       "\n",
       "    .dataframe tbody tr th {\n",
       "        vertical-align: top;\n",
       "    }\n",
       "\n",
       "    .dataframe thead th {\n",
       "        text-align: right;\n",
       "    }\n",
       "</style>\n",
       "<table border=\"1\" class=\"dataframe\">\n",
       "  <thead>\n",
       "    <tr style=\"text-align: right;\">\n",
       "      <th>aplicacao</th>\n",
       "      <th>Acoes</th>\n",
       "      <th>CDB</th>\n",
       "      <th>Poupanca</th>\n",
       "    </tr>\n",
       "    <tr>\n",
       "      <th>aplicacao</th>\n",
       "      <th></th>\n",
       "      <th></th>\n",
       "      <th></th>\n",
       "    </tr>\n",
       "  </thead>\n",
       "  <tbody>\n",
       "    <tr>\n",
       "      <th>Acoes</th>\n",
       "      <td>0.093454</td>\n",
       "      <td>-0.043599</td>\n",
       "      <td>-0.090670</td>\n",
       "    </tr>\n",
       "    <tr>\n",
       "      <th>CDB</th>\n",
       "      <td>-0.043599</td>\n",
       "      <td>0.051943</td>\n",
       "      <td>-0.009308</td>\n",
       "    </tr>\n",
       "    <tr>\n",
       "      <th>Poupanca</th>\n",
       "      <td>-0.090670</td>\n",
       "      <td>-0.009308</td>\n",
       "      <td>0.172245</td>\n",
       "    </tr>\n",
       "  </tbody>\n",
       "</table>\n",
       "</div>"
      ],
      "text/plain": [
       "aplicacao     Acoes       CDB  Poupanca\n",
       "aplicacao                              \n",
       "Acoes      0.093454 -0.043599 -0.090670\n",
       "CDB       -0.043599  0.051943 -0.009308\n",
       "Poupanca  -0.090670 -0.009308  0.172245"
      ]
     },
     "execution_count": 19,
     "metadata": {},
     "output_type": "execute_result"
    }
   ],
   "source": [
    "# Matriz W\n",
    "#Multiplicação da matriz A transposta pela matriz A\n",
    "\n",
    "matrizW = np.dot(matrizA.T, matrizA) # multiplicação utilizando a função dot do numpy\n",
    "matrizW = pd.DataFrame(matrizW,\n",
    "                      index=matrizA.T.index,\n",
    "                      columns=matrizA.columns)\n",
    "matrizW"
   ]
  },
  {
   "cell_type": "markdown",
   "id": "46c2c59d",
   "metadata": {},
   "source": [
    "# Aplicando Biblioteca Prince para Análise de Correspondência Simples"
   ]
  },
  {
   "cell_type": "code",
   "execution_count": 20,
   "id": "fc66fe83",
   "metadata": {},
   "outputs": [
    {
     "name": "stdout",
     "output_type": "stream",
     "text": [
      "Autovalores: 2\n"
     ]
    }
   ],
   "source": [
    "import prince\n",
    "\n",
    "#Calculondo qtde de autovalores:\n",
    "\n",
    "n = min(tabela_contingencia.columns.size -1, tabela_contingencia.index.size -1)\n",
    "\n",
    "ca = prince.CA(n_components=n)\n",
    "print('Autovalores:', n)"
   ]
  },
  {
   "cell_type": "code",
   "execution_count": 21,
   "id": "c33f8fd5",
   "metadata": {},
   "outputs": [],
   "source": [
    "# Treina o modelo\n",
    "\n",
    "ca = ca.fit(tabela_contingencia)"
   ]
  },
  {
   "cell_type": "code",
   "execution_count": 22,
   "id": "3f86ae5c",
   "metadata": {},
   "outputs": [
    {
     "data": {
      "text/plain": [
       "[0.2332148728258387, 0.08442677693751499]"
      ]
     },
     "execution_count": 22,
     "metadata": {},
     "output_type": "execute_result"
    }
   ],
   "source": [
    "# Valor dos Autovalores\n",
    "ca.eigenvalues_"
   ]
  },
  {
   "cell_type": "code",
   "execution_count": 23,
   "id": "d1bc9b5e",
   "metadata": {},
   "outputs": [
    {
     "data": {
      "image/png": "[encoded data removed]",
      "text/plain": [
       "<Figure size 600x600 with 1 Axes>"
      ]
     },
     "metadata": {},
     "output_type": "display_data"
    }
   ],
   "source": [
    "#Plota o mapa Perceptual\n",
    "ax = ca.plot_coordinates(tabela_contingencia)"
   ]
  },
  {
   "cell_type": "markdown",
   "id": "08f5cf64",
   "metadata": {},
   "source": [
    "Os valores próximos possuem maior associação.\n",
    "\n",
    "- O perfil Agressivo tem uma associação significativa com a aplicação Ações; <br>\n",
    "- O perfil Moderado tem uma associação significativa com a aplicação CDB;<br>\n",
    "- O perfil Conservador tem uma associação significativa com a aplicação Poupança.\n"
   ]
  },
  {
   "cell_type": "code",
   "execution_count": null,
   "id": "3cb5ef74",
   "metadata": {},
   "outputs": [],
   "source": []
  }
 ],
 "metadata": {
  "kernelspec": {
   "display_name": "Python 3 (ipykernel)",
   "language": "python",
   "name": "python3"
  },
  "language_info": {
   "codemirror_mode": {
    "name": "ipython",
    "version": 3
   },
   "file_extension": ".py",
   "mimetype": "text/x-python",
   "name": "python",
   "nbconvert_exporter": "python",
   "pygments_lexer": "ipython3",
   "version": "3.9.13"
  }
 },
 "nbformat": 4,
 "nbformat_minor": 5
}
