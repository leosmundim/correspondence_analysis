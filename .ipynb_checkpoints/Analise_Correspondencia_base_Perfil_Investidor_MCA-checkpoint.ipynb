{
 "cells": [
  {
   "cell_type": "code",
   "execution_count": 2,
   "id": "da3a7561",
   "metadata": {},
   "outputs": [],
   "source": [
    "import pandas as pd\n",
    "import numpy as np\n",
    "import seaborn as sns\n",
    "import pyreadr\n",
    "import rdata\n",
    "import matplotlib as plt"
   ]
  },
  {
   "cell_type": "markdown",
   "id": "e6cd432c",
   "metadata": {},
   "source": [
    "# Análise de Correspondência Múltipla\n",
    "\n",
    "**Técnica Não Supervisionada**\n",
    "\n",
    "Exemplo da aula do MBA DSA USP/ESALQ com Prof. Wilson Tarantin Jr.\n",
    "\n",
    "Fonte: Fávero e Belfiore, MANUAL DE ANÁLISE DE DADOS, Capítulo 11\n",
    "\n",
    "- Referência: https://www.kaggle.com/code/jiagengchang/heart-disease-multiple-correspondence-analysis/notebook\n",
    "\n",
    "- Documentação: https://pypi.org/project/prince/#correspondence-analysis-ca\n",
    "\n",
    "\n",
    "### Aplicabilidade\n",
    "\n",
    "Técnica adequada para a análise de variáveis qualitativas.\n",
    "\n",
    ">Verificar se existe associação estatisticamente significativa entre as variáveis e suas categorias. <br>\n",
    "\n",
    ">Verificar como as categorias se associam entre elas.\n",
    "\n",
    ">Construção do mapa perceptual para visualizar essas associações.\n",
    "\n",
    "<b>Para variáveis quantitativas é necessários transformá-las em variáveis categóricas. Criando faixas/categorias.</b>\n",
    "\n",
    "\n",
    "### Objetivo da Análise\n",
    "\n",
    "Verificar as associações entre o perfil, o tipo de investimento e estado civil entre os 100 estudantes analisados."
   ]
  },
  {
   "cell_type": "code",
   "execution_count": 3,
   "id": "12c4f4cf",
   "metadata": {},
   "outputs": [
    {
     "name": "stdout",
     "output_type": "stream",
     "text": [
      "odict_keys(['perfil_investidor_aplicacao_estadocivil'])\n"
     ]
    }
   ],
   "source": [
    "#Importa base e transforma em objeto\n",
    "rData = pyreadr.read_r(r'bases\\perfil_investidor_aplicacao_estadocivil.RData')\n",
    "\n",
    "#Verifica o nomne do objeto\n",
    "print(rData.keys())"
   ]
  },
  {
   "cell_type": "code",
   "execution_count": 4,
   "id": "a4374f94",
   "metadata": {},
   "outputs": [],
   "source": [
    "#Transforma o objeto em um pandas DataFrame\n",
    "perfil_investidor = rData['perfil_investidor_aplicacao_estadocivil']"
   ]
  },
  {
   "cell_type": "code",
   "execution_count": 5,
   "id": "2535ae3c",
   "metadata": {},
   "outputs": [
    {
     "data": {
      "text/html": [
       "<div>\n",
       "<style scoped>\n",
       "    .dataframe tbody tr th:only-of-type {\n",
       "        vertical-align: middle;\n",
       "    }\n",
       "\n",
       "    .dataframe tbody tr th {\n",
       "        vertical-align: top;\n",
       "    }\n",
       "\n",
       "    .dataframe thead th {\n",
       "        text-align: right;\n",
       "    }\n",
       "</style>\n",
       "<table border=\"1\" class=\"dataframe\">\n",
       "  <thead>\n",
       "    <tr style=\"text-align: right;\">\n",
       "      <th></th>\n",
       "      <th>estudante</th>\n",
       "      <th>perfil</th>\n",
       "      <th>aplicacao</th>\n",
       "      <th>estado_civil</th>\n",
       "    </tr>\n",
       "  </thead>\n",
       "  <tbody>\n",
       "    <tr>\n",
       "      <th>0</th>\n",
       "      <td>Gabriela</td>\n",
       "      <td>Conservador</td>\n",
       "      <td>Poupanca</td>\n",
       "      <td>Casado</td>\n",
       "    </tr>\n",
       "    <tr>\n",
       "      <th>1</th>\n",
       "      <td>Luiz Felipe</td>\n",
       "      <td>Conservador</td>\n",
       "      <td>Poupanca</td>\n",
       "      <td>Casado</td>\n",
       "    </tr>\n",
       "    <tr>\n",
       "      <th>2</th>\n",
       "      <td>Patrícia</td>\n",
       "      <td>Conservador</td>\n",
       "      <td>Poupanca</td>\n",
       "      <td>Casado</td>\n",
       "    </tr>\n",
       "    <tr>\n",
       "      <th>3</th>\n",
       "      <td>Gustavo</td>\n",
       "      <td>Conservador</td>\n",
       "      <td>Poupanca</td>\n",
       "      <td>Solteiro</td>\n",
       "    </tr>\n",
       "    <tr>\n",
       "      <th>4</th>\n",
       "      <td>Letícia</td>\n",
       "      <td>Conservador</td>\n",
       "      <td>Poupanca</td>\n",
       "      <td>Casado</td>\n",
       "    </tr>\n",
       "    <tr>\n",
       "      <th>...</th>\n",
       "      <td>...</td>\n",
       "      <td>...</td>\n",
       "      <td>...</td>\n",
       "      <td>...</td>\n",
       "    </tr>\n",
       "    <tr>\n",
       "      <th>95</th>\n",
       "      <td>Sheila</td>\n",
       "      <td>Agressivo</td>\n",
       "      <td>Acoes</td>\n",
       "      <td>Solteiro</td>\n",
       "    </tr>\n",
       "    <tr>\n",
       "      <th>96</th>\n",
       "      <td>Pedro</td>\n",
       "      <td>Agressivo</td>\n",
       "      <td>Acoes</td>\n",
       "      <td>Solteiro</td>\n",
       "    </tr>\n",
       "    <tr>\n",
       "      <th>97</th>\n",
       "      <td>Horácio</td>\n",
       "      <td>Agressivo</td>\n",
       "      <td>Acoes</td>\n",
       "      <td>Solteiro</td>\n",
       "    </tr>\n",
       "    <tr>\n",
       "      <th>98</th>\n",
       "      <td>Leandro</td>\n",
       "      <td>Agressivo</td>\n",
       "      <td>Acoes</td>\n",
       "      <td>Solteiro</td>\n",
       "    </tr>\n",
       "    <tr>\n",
       "      <th>99</th>\n",
       "      <td>Estela</td>\n",
       "      <td>Agressivo</td>\n",
       "      <td>Acoes</td>\n",
       "      <td>Solteiro</td>\n",
       "    </tr>\n",
       "  </tbody>\n",
       "</table>\n",
       "<p>100 rows × 4 columns</p>\n",
       "</div>"
      ],
      "text/plain": [
       "      estudante       perfil aplicacao estado_civil\n",
       "0      Gabriela  Conservador  Poupanca       Casado\n",
       "1   Luiz Felipe  Conservador  Poupanca       Casado\n",
       "2      Patrícia  Conservador  Poupanca       Casado\n",
       "3       Gustavo  Conservador  Poupanca     Solteiro\n",
       "4       Letícia  Conservador  Poupanca       Casado\n",
       "..          ...          ...       ...          ...\n",
       "95       Sheila    Agressivo     Acoes     Solteiro\n",
       "96        Pedro    Agressivo     Acoes     Solteiro\n",
       "97      Horácio    Agressivo     Acoes     Solteiro\n",
       "98      Leandro    Agressivo     Acoes     Solteiro\n",
       "99       Estela    Agressivo     Acoes     Solteiro\n",
       "\n",
       "[100 rows x 4 columns]"
      ]
     },
     "execution_count": 5,
     "metadata": {},
     "output_type": "execute_result"
    }
   ],
   "source": [
    "perfil_investidor"
   ]
  },
  {
   "cell_type": "markdown",
   "id": "69fac35e",
   "metadata": {},
   "source": [
    "## Análise Descritiva"
   ]
  },
  {
   "cell_type": "code",
   "execution_count": 6,
   "id": "9ecdc9e5",
   "metadata": {},
   "outputs": [
    {
     "data": {
      "text/html": [
       "<div>\n",
       "<style scoped>\n",
       "    .dataframe tbody tr th:only-of-type {\n",
       "        vertical-align: middle;\n",
       "    }\n",
       "\n",
       "    .dataframe tbody tr th {\n",
       "        vertical-align: top;\n",
       "    }\n",
       "\n",
       "    .dataframe thead th {\n",
       "        text-align: right;\n",
       "    }\n",
       "</style>\n",
       "<table border=\"1\" class=\"dataframe\">\n",
       "  <thead>\n",
       "    <tr style=\"text-align: right;\">\n",
       "      <th></th>\n",
       "      <th>estudante</th>\n",
       "      <th>perfil</th>\n",
       "      <th>aplicacao</th>\n",
       "      <th>estado_civil</th>\n",
       "    </tr>\n",
       "  </thead>\n",
       "  <tbody>\n",
       "    <tr>\n",
       "      <th>count</th>\n",
       "      <td>100</td>\n",
       "      <td>100</td>\n",
       "      <td>100</td>\n",
       "      <td>100</td>\n",
       "    </tr>\n",
       "    <tr>\n",
       "      <th>unique</th>\n",
       "      <td>100</td>\n",
       "      <td>3</td>\n",
       "      <td>3</td>\n",
       "      <td>2</td>\n",
       "    </tr>\n",
       "    <tr>\n",
       "      <th>top</th>\n",
       "      <td>Gabriela</td>\n",
       "      <td>Agressivo</td>\n",
       "      <td>Acoes</td>\n",
       "      <td>Solteiro</td>\n",
       "    </tr>\n",
       "    <tr>\n",
       "      <th>freq</th>\n",
       "      <td>1</td>\n",
       "      <td>58</td>\n",
       "      <td>45</td>\n",
       "      <td>57</td>\n",
       "    </tr>\n",
       "  </tbody>\n",
       "</table>\n",
       "</div>"
      ],
      "text/plain": [
       "       estudante     perfil aplicacao estado_civil\n",
       "count        100        100       100          100\n",
       "unique       100          3         3            2\n",
       "top     Gabriela  Agressivo     Acoes     Solteiro\n",
       "freq           1         58        45           57"
      ]
     },
     "execution_count": 6,
     "metadata": {},
     "output_type": "execute_result"
    }
   ],
   "source": [
    "#Análise Descritiva\n",
    "perfil_investidor.describe()"
   ]
  },
  {
   "cell_type": "code",
   "execution_count": 7,
   "id": "e6507ba1",
   "metadata": {},
   "outputs": [
    {
     "data": {
      "text/plain": [
       "<AxesSubplot:title={'center':'Perfil'}, ylabel='Count'>"
      ]
     },
     "execution_count": 7,
     "metadata": {},
     "output_type": "execute_result"
    },
    {
     "data": {
      "image/png": "[encoded data removed]",
      "text/plain": [
       "<Figure size 640x480 with 1 Axes>"
      ]
     },
     "metadata": {},
     "output_type": "display_data"
    }
   ],
   "source": [
    "perfil_investidor.perfil.value_counts().plot(kind=\"bar\",\n",
    "                           title=\"Perfil\",\n",
    "                           rot=15,\n",
    "                           #xlabel=\"perfil\",\n",
    "                           ylabel=\"Count\")"
   ]
  },
  {
   "cell_type": "code",
   "execution_count": 8,
   "id": "99242c9b",
   "metadata": {},
   "outputs": [
    {
     "data": {
      "text/plain": [
       "<AxesSubplot:title={'center':'Aplicacao'}, ylabel='Count'>"
      ]
     },
     "execution_count": 8,
     "metadata": {},
     "output_type": "execute_result"
    },
    {
     "data": {
      "image/png": "[encoded data removed]",
      "text/plain": [
       "<Figure size 640x480 with 1 Axes>"
      ]
     },
     "metadata": {},
     "output_type": "display_data"
    }
   ],
   "source": [
    "perfil_investidor.aplicacao.value_counts().plot(kind=\"bar\",\n",
    "                           title=\"Aplicacao\",\n",
    "                           rot=15,\n",
    "                           #xlabel=\"Aplicacao\",\n",
    "                           ylabel=\"Count\")"
   ]
  },
  {
   "cell_type": "code",
   "execution_count": 9,
   "id": "8758fe61",
   "metadata": {},
   "outputs": [
    {
     "data": {
      "text/plain": [
       "<AxesSubplot:title={'center':'Estado Civil'}, ylabel='Count'>"
      ]
     },
     "execution_count": 9,
     "metadata": {},
     "output_type": "execute_result"
    },
    {
     "data": {
      "image/png": "[encoded data removed]",
      "text/plain": [
       "<Figure size 640x480 with 1 Axes>"
      ]
     },
     "metadata": {},
     "output_type": "display_data"
    }
   ],
   "source": [
    "perfil_investidor.estado_civil.value_counts().plot(kind=\"bar\",\n",
    "                           title=\"Estado Civil\",\n",
    "                           rot=15,\n",
    "                           #xlabel=\"Estado Civil\",\n",
    "                           ylabel=\"Count\")"
   ]
  },
  {
   "cell_type": "markdown",
   "id": "7e95fbe7",
   "metadata": {},
   "source": [
    "# Análise da Significância Estatística Para Análise de Correspondência Múltipla\n",
    "\n",
    "Teste de associação qui-quadrado para avaliar a significância para pares de variáveis.\n",
    "\n",
    "**Deve-se aplicar o teste qui-quadrado para cada combinação de pares das variáveis.**\n",
    "\n",
    "- Aplicação X Perfil\n",
    "- Aplicação X Estado Civil\n",
    "- Perfil X Estados Civil\n",
    "\n",
    "Soma das estatísticas qui2 individuais para cada par de variável. <br>\n",
    "A partir da estatística qui2 total testaremos as hipóteses:\n",
    "\n",
    "> H0: não existe associação entre as variáveis <br>\n",
    "> H1: existe associação entre as variáveis\n",
    "\n",
    "p-valor < 0,05 rejeita H0.\n",
    "\n",
    "**Caso alguma variável não tenha associação estatisticamente significativa com pelo menos uma outra, essa variável deve ser retirada da análise.**"
   ]
  },
  {
   "cell_type": "markdown",
   "id": "29c240d6",
   "metadata": {},
   "source": [
    "### Aplicação X Perfil"
   ]
  },
  {
   "cell_type": "code",
   "execution_count": 10,
   "id": "a463922c",
   "metadata": {},
   "outputs": [
    {
     "data": {
      "text/html": [
       "<div>\n",
       "<style scoped>\n",
       "    .dataframe tbody tr th:only-of-type {\n",
       "        vertical-align: middle;\n",
       "    }\n",
       "\n",
       "    .dataframe tbody tr th {\n",
       "        vertical-align: top;\n",
       "    }\n",
       "\n",
       "    .dataframe thead th {\n",
       "        text-align: right;\n",
       "    }\n",
       "</style>\n",
       "<table border=\"1\" class=\"dataframe\">\n",
       "  <thead>\n",
       "    <tr style=\"text-align: right;\">\n",
       "      <th>aplicacao</th>\n",
       "      <th>Acoes</th>\n",
       "      <th>CDB</th>\n",
       "      <th>Poupanca</th>\n",
       "    </tr>\n",
       "    <tr>\n",
       "      <th>perfil</th>\n",
       "      <th></th>\n",
       "      <th></th>\n",
       "      <th></th>\n",
       "    </tr>\n",
       "  </thead>\n",
       "  <tbody>\n",
       "    <tr>\n",
       "      <th>Agressivo</th>\n",
       "      <td>36</td>\n",
       "      <td>20</td>\n",
       "      <td>2</td>\n",
       "    </tr>\n",
       "    <tr>\n",
       "      <th>Conservador</th>\n",
       "      <td>5</td>\n",
       "      <td>4</td>\n",
       "      <td>8</td>\n",
       "    </tr>\n",
       "    <tr>\n",
       "      <th>Moderado</th>\n",
       "      <td>4</td>\n",
       "      <td>16</td>\n",
       "      <td>5</td>\n",
       "    </tr>\n",
       "  </tbody>\n",
       "</table>\n",
       "</div>"
      ],
      "text/plain": [
       "aplicacao    Acoes  CDB  Poupanca\n",
       "perfil                           \n",
       "Agressivo       36   20         2\n",
       "Conservador      5    4         8\n",
       "Moderado         4   16         5"
      ]
     },
     "execution_count": 10,
     "metadata": {},
     "output_type": "execute_result"
    }
   ],
   "source": [
    "#Criando tabela de contingência\n",
    "tabela_contingencia_AP = pd.crosstab(perfil_investidor['perfil'],\n",
    "                                 perfil_investidor['aplicacao'])\n",
    "tabela_contingencia_AP"
   ]
  },
  {
   "cell_type": "code",
   "execution_count": 11,
   "id": "6a391893",
   "metadata": {},
   "outputs": [
    {
     "name": "stdout",
     "output_type": "stream",
     "text": [
      "qui2: 31.764, df: 4, p-value: 0.000\n"
     ]
    }
   ],
   "source": [
    "# Calculando QUI2\n",
    "\n",
    "from scipy.stats import chi2_contingency\n",
    "c, p, dof, expected = chi2_contingency(tabela_contingencia_AP)\n",
    "\n",
    "print(f'qui2: {c:.3f}, df: {dof}, p-value: {p:.3f}')"
   ]
  },
  {
   "cell_type": "markdown",
   "id": "17902763",
   "metadata": {},
   "source": [
    "### Aplicação X Estado Civil"
   ]
  },
  {
   "cell_type": "code",
   "execution_count": 12,
   "id": "7cf366e6",
   "metadata": {},
   "outputs": [
    {
     "data": {
      "text/html": [
       "<div>\n",
       "<style scoped>\n",
       "    .dataframe tbody tr th:only-of-type {\n",
       "        vertical-align: middle;\n",
       "    }\n",
       "\n",
       "    .dataframe tbody tr th {\n",
       "        vertical-align: top;\n",
       "    }\n",
       "\n",
       "    .dataframe thead th {\n",
       "        text-align: right;\n",
       "    }\n",
       "</style>\n",
       "<table border=\"1\" class=\"dataframe\">\n",
       "  <thead>\n",
       "    <tr style=\"text-align: right;\">\n",
       "      <th>estado_civil</th>\n",
       "      <th>Casado</th>\n",
       "      <th>Solteiro</th>\n",
       "    </tr>\n",
       "    <tr>\n",
       "      <th>aplicacao</th>\n",
       "      <th></th>\n",
       "      <th></th>\n",
       "    </tr>\n",
       "  </thead>\n",
       "  <tbody>\n",
       "    <tr>\n",
       "      <th>Acoes</th>\n",
       "      <td>9</td>\n",
       "      <td>36</td>\n",
       "    </tr>\n",
       "    <tr>\n",
       "      <th>CDB</th>\n",
       "      <td>24</td>\n",
       "      <td>16</td>\n",
       "    </tr>\n",
       "    <tr>\n",
       "      <th>Poupanca</th>\n",
       "      <td>10</td>\n",
       "      <td>5</td>\n",
       "    </tr>\n",
       "  </tbody>\n",
       "</table>\n",
       "</div>"
      ],
      "text/plain": [
       "estado_civil  Casado  Solteiro\n",
       "aplicacao                     \n",
       "Acoes              9        36\n",
       "CDB               24        16\n",
       "Poupanca          10         5"
      ]
     },
     "execution_count": 12,
     "metadata": {},
     "output_type": "execute_result"
    }
   ],
   "source": [
    "#Criando tabela de contingência\n",
    "tabela_contingencia_AE = pd.crosstab(perfil_investidor['aplicacao'],\n",
    "                                 perfil_investidor['estado_civil'])\n",
    "tabela_contingencia_AE"
   ]
  },
  {
   "cell_type": "code",
   "execution_count": 13,
   "id": "0018ea3a",
   "metadata": {},
   "outputs": [
    {
     "name": "stdout",
     "output_type": "stream",
     "text": [
      "qui2: 17.857, df: 2, p-value: 0.000\n"
     ]
    }
   ],
   "source": [
    "# Calculando QUI2\n",
    "\n",
    "from scipy.stats import chi2_contingency\n",
    "c, p, dof, expected = chi2_contingency(tabela_contingencia_AE)\n",
    "\n",
    "print(f'qui2: {c:.3f}, df: {dof}, p-value: {p:.3f}')"
   ]
  },
  {
   "cell_type": "markdown",
   "id": "b2f0a7f9",
   "metadata": {},
   "source": [
    "### Perfil X Estado Civil"
   ]
  },
  {
   "cell_type": "code",
   "execution_count": 14,
   "id": "697ae6c0",
   "metadata": {},
   "outputs": [
    {
     "data": {
      "text/html": [
       "<div>\n",
       "<style scoped>\n",
       "    .dataframe tbody tr th:only-of-type {\n",
       "        vertical-align: middle;\n",
       "    }\n",
       "\n",
       "    .dataframe tbody tr th {\n",
       "        vertical-align: top;\n",
       "    }\n",
       "\n",
       "    .dataframe thead th {\n",
       "        text-align: right;\n",
       "    }\n",
       "</style>\n",
       "<table border=\"1\" class=\"dataframe\">\n",
       "  <thead>\n",
       "    <tr style=\"text-align: right;\">\n",
       "      <th>estado_civil</th>\n",
       "      <th>Casado</th>\n",
       "      <th>Solteiro</th>\n",
       "    </tr>\n",
       "    <tr>\n",
       "      <th>perfil</th>\n",
       "      <th></th>\n",
       "      <th></th>\n",
       "    </tr>\n",
       "  </thead>\n",
       "  <tbody>\n",
       "    <tr>\n",
       "      <th>Agressivo</th>\n",
       "      <td>17</td>\n",
       "      <td>41</td>\n",
       "    </tr>\n",
       "    <tr>\n",
       "      <th>Conservador</th>\n",
       "      <td>12</td>\n",
       "      <td>5</td>\n",
       "    </tr>\n",
       "    <tr>\n",
       "      <th>Moderado</th>\n",
       "      <td>14</td>\n",
       "      <td>11</td>\n",
       "    </tr>\n",
       "  </tbody>\n",
       "</table>\n",
       "</div>"
      ],
      "text/plain": [
       "estado_civil  Casado  Solteiro\n",
       "perfil                        \n",
       "Agressivo         17        41\n",
       "Conservador       12         5\n",
       "Moderado          14        11"
      ]
     },
     "execution_count": 14,
     "metadata": {},
     "output_type": "execute_result"
    }
   ],
   "source": [
    "#Criando tabela de contingência\n",
    "tabela_contingencia_PE = pd.crosstab(perfil_investidor['perfil'],\n",
    "                                 perfil_investidor['estado_civil'])\n",
    "tabela_contingencia_PE"
   ]
  },
  {
   "cell_type": "code",
   "execution_count": 15,
   "id": "727f5440",
   "metadata": {},
   "outputs": [
    {
     "name": "stdout",
     "output_type": "stream",
     "text": [
      "qui2: 11.438, df: 2, p-value: 0.003\n"
     ]
    }
   ],
   "source": [
    "# Calculando QUI2\n",
    "\n",
    "from scipy.stats import chi2_contingency\n",
    "c, p, dof, expected = chi2_contingency(tabela_contingencia_PE)\n",
    "\n",
    "print(f'qui2: {c:.3f}, df: {dof}, p-value: {p:.3f}')"
   ]
  },
  {
   "cell_type": "markdown",
   "id": "01d7b36c",
   "metadata": {},
   "source": [
    "# Análise dos Resíduos Padronizados Ajustados\n",
    "\n",
    "Verificamos que existe a associação entre os pares de variáveis através do qui-quadrado mas ainda não sabemos de onde essa associação está vindo.\n",
    "\n",
    "Para avaliar de onde vem a associação, utilizamos o Resíduos Padronizado Ajustado > 1.96\n",
    "\n",
    "Aplicaremos o módulo statsmodels.api \n"
   ]
  },
  {
   "cell_type": "markdown",
   "id": "0f4998cf",
   "metadata": {},
   "source": [
    "### Heatmap Aplicação X Perfil"
   ]
  },
  {
   "cell_type": "code",
   "execution_count": 16,
   "id": "73d37289",
   "metadata": {},
   "outputs": [
    {
     "data": {
      "text/plain": [
       "<AxesSubplot:xlabel='aplicacao', ylabel='perfil'>"
      ]
     },
     "execution_count": 16,
     "metadata": {},
     "output_type": "execute_result"
    },
    {
     "data": {
      "image/png": "[encoded data removed]",
      "text/plain": [
       "<Figure size 640x480 with 2 Axes>"
      ]
     },
     "metadata": {},
     "output_type": "display_data"
    }
   ],
   "source": [
    "import statsmodels.api as sm\n",
    "\n",
    "# Resíduos Padronizados Ajustados\n",
    "tabela = sm.stats.Table(tabela_contingencia_AP)\n",
    "\n",
    "#Heatmap\n",
    "sns.heatmap(tabela.standardized_resids,\n",
    "           cmap='viridis_r',\n",
    "           annot=True,\n",
    "           center=1.96,\n",
    "           vmin=1,\n",
    "           vmax=2,\n",
    "           robust=True)\n"
   ]
  },
  {
   "cell_type": "markdown",
   "id": "28fd4d1e",
   "metadata": {},
   "source": [
    "Existe Associação entre as categorias:\n",
    "\n",
    "- Agressivo e Ações\n",
    "- Conservador e Poupança\n",
    "- Moderado e CDB"
   ]
  },
  {
   "cell_type": "markdown",
   "id": "7ed419bb",
   "metadata": {},
   "source": [
    "### Heatmap Aplicação X Estado Civil"
   ]
  },
  {
   "cell_type": "code",
   "execution_count": 17,
   "id": "06d4ef12",
   "metadata": {},
   "outputs": [
    {
     "data": {
      "text/plain": [
       "<AxesSubplot:xlabel='estado_civil', ylabel='aplicacao'>"
      ]
     },
     "execution_count": 17,
     "metadata": {},
     "output_type": "execute_result"
    },
    {
     "data": {
      "image/png": "[encoded data removed]",
      "text/plain": [
       "<Figure size 640x480 with 2 Axes>"
      ]
     },
     "metadata": {},
     "output_type": "display_data"
    }
   ],
   "source": [
    "# Resíduos Padronizados Ajustados\n",
    "tabela = sm.stats.Table(tabela_contingencia_AE)\n",
    "\n",
    "#Heatmap\n",
    "sns.heatmap(tabela.standardized_resids,\n",
    "           cmap='viridis_r',\n",
    "           annot=True,\n",
    "           center=1.96,\n",
    "           vmin=1,\n",
    "           vmax=2,\n",
    "           robust=True)"
   ]
  },
  {
   "cell_type": "markdown",
   "id": "7618b05a",
   "metadata": {},
   "source": [
    "Existe Associação entre as categorias:\n",
    "\n",
    "- Casado e CDB\n",
    "- Casado e Poupança\n",
    "- Solteiro e Ações"
   ]
  },
  {
   "cell_type": "markdown",
   "id": "4959766f",
   "metadata": {},
   "source": [
    "### Heatmap Perfil X Estado Civil"
   ]
  },
  {
   "cell_type": "code",
   "execution_count": 18,
   "id": "821b4adb",
   "metadata": {},
   "outputs": [
    {
     "data": {
      "text/plain": [
       "<AxesSubplot:xlabel='estado_civil', ylabel='perfil'>"
      ]
     },
     "execution_count": 18,
     "metadata": {},
     "output_type": "execute_result"
    },
    {
     "data": {
      "image/png": "[encoded data removed]",
      "text/plain": [
       "<Figure size 640x480 with 2 Axes>"
      ]
     },
     "metadata": {},
     "output_type": "display_data"
    }
   ],
   "source": [
    "# Resíduos Padronizados Ajustados\n",
    "tabela = sm.stats.Table(tabela_contingencia_PE)\n",
    "\n",
    "#Heatmap\n",
    "sns.heatmap(tabela.standardized_resids,\n",
    "           cmap='viridis_r',\n",
    "           annot=True,\n",
    "           center=1.96,\n",
    "           vmin=1,\n",
    "           vmax=2,\n",
    "           robust=True)"
   ]
  },
  {
   "cell_type": "markdown",
   "id": "ac767ae4",
   "metadata": {},
   "source": [
    "Existe Associação entre as categorias:\n",
    "\n",
    "- Casado e Conservador\n",
    "- Solteiro e Agressivo"
   ]
  },
  {
   "cell_type": "markdown",
   "id": "f093e8a2",
   "metadata": {},
   "source": [
    "# Matriz Binária e Matriz de Burt\n",
    "\n",
    "Tem como objetivo agregar todas as tabelas de contingência em uma única grande tabela."
   ]
  },
  {
   "cell_type": "markdown",
   "id": "0318be95",
   "metadata": {},
   "source": [
    "## Matriz Binária\n",
    "\n",
    "Transformar as variáveis em valores 1 ou 0 (variáveis dummys).\n",
    "\n",
    "**Quantidade de Dimensões = J - Q = #Categorias - #Variáveis = 8 - 3 = 5**"
   ]
  },
  {
   "cell_type": "code",
   "execution_count": 19,
   "id": "6d2fed88",
   "metadata": {},
   "outputs": [],
   "source": [
    "matrizBinaria = pd.get_dummies(perfil_investidor.iloc[:,1:])"
   ]
  },
  {
   "cell_type": "code",
   "execution_count": 20,
   "id": "6b806e4b",
   "metadata": {},
   "outputs": [
    {
     "data": {
      "text/html": [
       "<div>\n",
       "<style scoped>\n",
       "    .dataframe tbody tr th:only-of-type {\n",
       "        vertical-align: middle;\n",
       "    }\n",
       "\n",
       "    .dataframe tbody tr th {\n",
       "        vertical-align: top;\n",
       "    }\n",
       "\n",
       "    .dataframe thead th {\n",
       "        text-align: right;\n",
       "    }\n",
       "</style>\n",
       "<table border=\"1\" class=\"dataframe\">\n",
       "  <thead>\n",
       "    <tr style=\"text-align: right;\">\n",
       "      <th></th>\n",
       "      <th>perfil_Agressivo</th>\n",
       "      <th>perfil_Conservador</th>\n",
       "      <th>perfil_Moderado</th>\n",
       "      <th>aplicacao_Acoes</th>\n",
       "      <th>aplicacao_CDB</th>\n",
       "      <th>aplicacao_Poupanca</th>\n",
       "      <th>estado_civil_Casado</th>\n",
       "      <th>estado_civil_Solteiro</th>\n",
       "    </tr>\n",
       "  </thead>\n",
       "  <tbody>\n",
       "    <tr>\n",
       "      <th>0</th>\n",
       "      <td>0</td>\n",
       "      <td>1</td>\n",
       "      <td>0</td>\n",
       "      <td>0</td>\n",
       "      <td>0</td>\n",
       "      <td>1</td>\n",
       "      <td>1</td>\n",
       "      <td>0</td>\n",
       "    </tr>\n",
       "    <tr>\n",
       "      <th>1</th>\n",
       "      <td>0</td>\n",
       "      <td>1</td>\n",
       "      <td>0</td>\n",
       "      <td>0</td>\n",
       "      <td>0</td>\n",
       "      <td>1</td>\n",
       "      <td>1</td>\n",
       "      <td>0</td>\n",
       "    </tr>\n",
       "    <tr>\n",
       "      <th>2</th>\n",
       "      <td>0</td>\n",
       "      <td>1</td>\n",
       "      <td>0</td>\n",
       "      <td>0</td>\n",
       "      <td>0</td>\n",
       "      <td>1</td>\n",
       "      <td>1</td>\n",
       "      <td>0</td>\n",
       "    </tr>\n",
       "    <tr>\n",
       "      <th>3</th>\n",
       "      <td>0</td>\n",
       "      <td>1</td>\n",
       "      <td>0</td>\n",
       "      <td>0</td>\n",
       "      <td>0</td>\n",
       "      <td>1</td>\n",
       "      <td>0</td>\n",
       "      <td>1</td>\n",
       "    </tr>\n",
       "    <tr>\n",
       "      <th>4</th>\n",
       "      <td>0</td>\n",
       "      <td>1</td>\n",
       "      <td>0</td>\n",
       "      <td>0</td>\n",
       "      <td>0</td>\n",
       "      <td>1</td>\n",
       "      <td>1</td>\n",
       "      <td>0</td>\n",
       "    </tr>\n",
       "    <tr>\n",
       "      <th>...</th>\n",
       "      <td>...</td>\n",
       "      <td>...</td>\n",
       "      <td>...</td>\n",
       "      <td>...</td>\n",
       "      <td>...</td>\n",
       "      <td>...</td>\n",
       "      <td>...</td>\n",
       "      <td>...</td>\n",
       "    </tr>\n",
       "    <tr>\n",
       "      <th>95</th>\n",
       "      <td>1</td>\n",
       "      <td>0</td>\n",
       "      <td>0</td>\n",
       "      <td>1</td>\n",
       "      <td>0</td>\n",
       "      <td>0</td>\n",
       "      <td>0</td>\n",
       "      <td>1</td>\n",
       "    </tr>\n",
       "    <tr>\n",
       "      <th>96</th>\n",
       "      <td>1</td>\n",
       "      <td>0</td>\n",
       "      <td>0</td>\n",
       "      <td>1</td>\n",
       "      <td>0</td>\n",
       "      <td>0</td>\n",
       "      <td>0</td>\n",
       "      <td>1</td>\n",
       "    </tr>\n",
       "    <tr>\n",
       "      <th>97</th>\n",
       "      <td>1</td>\n",
       "      <td>0</td>\n",
       "      <td>0</td>\n",
       "      <td>1</td>\n",
       "      <td>0</td>\n",
       "      <td>0</td>\n",
       "      <td>0</td>\n",
       "      <td>1</td>\n",
       "    </tr>\n",
       "    <tr>\n",
       "      <th>98</th>\n",
       "      <td>1</td>\n",
       "      <td>0</td>\n",
       "      <td>0</td>\n",
       "      <td>1</td>\n",
       "      <td>0</td>\n",
       "      <td>0</td>\n",
       "      <td>0</td>\n",
       "      <td>1</td>\n",
       "    </tr>\n",
       "    <tr>\n",
       "      <th>99</th>\n",
       "      <td>1</td>\n",
       "      <td>0</td>\n",
       "      <td>0</td>\n",
       "      <td>1</td>\n",
       "      <td>0</td>\n",
       "      <td>0</td>\n",
       "      <td>0</td>\n",
       "      <td>1</td>\n",
       "    </tr>\n",
       "  </tbody>\n",
       "</table>\n",
       "<p>100 rows × 8 columns</p>\n",
       "</div>"
      ],
      "text/plain": [
       "    perfil_Agressivo  perfil_Conservador  perfil_Moderado  aplicacao_Acoes  \\\n",
       "0                  0                   1                0                0   \n",
       "1                  0                   1                0                0   \n",
       "2                  0                   1                0                0   \n",
       "3                  0                   1                0                0   \n",
       "4                  0                   1                0                0   \n",
       "..               ...                 ...              ...              ...   \n",
       "95                 1                   0                0                1   \n",
       "96                 1                   0                0                1   \n",
       "97                 1                   0                0                1   \n",
       "98                 1                   0                0                1   \n",
       "99                 1                   0                0                1   \n",
       "\n",
       "    aplicacao_CDB  aplicacao_Poupanca  estado_civil_Casado  \\\n",
       "0               0                   1                    1   \n",
       "1               0                   1                    1   \n",
       "2               0                   1                    1   \n",
       "3               0                   1                    0   \n",
       "4               0                   1                    1   \n",
       "..            ...                 ...                  ...   \n",
       "95              0                   0                    0   \n",
       "96              0                   0                    0   \n",
       "97              0                   0                    0   \n",
       "98              0                   0                    0   \n",
       "99              0                   0                    0   \n",
       "\n",
       "    estado_civil_Solteiro  \n",
       "0                       0  \n",
       "1                       0  \n",
       "2                       0  \n",
       "3                       1  \n",
       "4                       0  \n",
       "..                    ...  \n",
       "95                      1  \n",
       "96                      1  \n",
       "97                      1  \n",
       "98                      1  \n",
       "99                      1  \n",
       "\n",
       "[100 rows x 8 columns]"
      ]
     },
     "execution_count": 20,
     "metadata": {},
     "output_type": "execute_result"
    }
   ],
   "source": [
    "matrizBinaria"
   ]
  },
  {
   "cell_type": "markdown",
   "id": "ef7d0295",
   "metadata": {},
   "source": [
    "## Matriz de Burt\n",
    "\n",
    "Definida como B = Z' * Z <br>\n",
    "\n",
    "ou seja,\n",
    "\n",
    "Matriz Binária Transposta vezes Matriz Binária"
   ]
  },
  {
   "cell_type": "code",
   "execution_count": 21,
   "id": "8ef3fa91",
   "metadata": {},
   "outputs": [],
   "source": [
    "matrizBurt = np.dot(matrizBinaria.T, matrizBinaria)\n",
    "matrizBurt = pd.DataFrame(matrizBurt, \n",
    "                          index=matrizBinaria.columns,\n",
    "                          columns=matrizBinaria.columns)"
   ]
  },
  {
   "cell_type": "code",
   "execution_count": 22,
   "id": "d5f897c2",
   "metadata": {},
   "outputs": [
    {
     "data": {
      "text/html": [
       "<div>\n",
       "<style scoped>\n",
       "    .dataframe tbody tr th:only-of-type {\n",
       "        vertical-align: middle;\n",
       "    }\n",
       "\n",
       "    .dataframe tbody tr th {\n",
       "        vertical-align: top;\n",
       "    }\n",
       "\n",
       "    .dataframe thead th {\n",
       "        text-align: right;\n",
       "    }\n",
       "</style>\n",
       "<table border=\"1\" class=\"dataframe\">\n",
       "  <thead>\n",
       "    <tr style=\"text-align: right;\">\n",
       "      <th></th>\n",
       "      <th>perfil_Agressivo</th>\n",
       "      <th>perfil_Conservador</th>\n",
       "      <th>perfil_Moderado</th>\n",
       "      <th>aplicacao_Acoes</th>\n",
       "      <th>aplicacao_CDB</th>\n",
       "      <th>aplicacao_Poupanca</th>\n",
       "      <th>estado_civil_Casado</th>\n",
       "      <th>estado_civil_Solteiro</th>\n",
       "    </tr>\n",
       "  </thead>\n",
       "  <tbody>\n",
       "    <tr>\n",
       "      <th>perfil_Agressivo</th>\n",
       "      <td>58</td>\n",
       "      <td>0</td>\n",
       "      <td>0</td>\n",
       "      <td>36</td>\n",
       "      <td>20</td>\n",
       "      <td>2</td>\n",
       "      <td>17</td>\n",
       "      <td>41</td>\n",
       "    </tr>\n",
       "    <tr>\n",
       "      <th>perfil_Conservador</th>\n",
       "      <td>0</td>\n",
       "      <td>17</td>\n",
       "      <td>0</td>\n",
       "      <td>5</td>\n",
       "      <td>4</td>\n",
       "      <td>8</td>\n",
       "      <td>12</td>\n",
       "      <td>5</td>\n",
       "    </tr>\n",
       "    <tr>\n",
       "      <th>perfil_Moderado</th>\n",
       "      <td>0</td>\n",
       "      <td>0</td>\n",
       "      <td>25</td>\n",
       "      <td>4</td>\n",
       "      <td>16</td>\n",
       "      <td>5</td>\n",
       "      <td>14</td>\n",
       "      <td>11</td>\n",
       "    </tr>\n",
       "    <tr>\n",
       "      <th>aplicacao_Acoes</th>\n",
       "      <td>36</td>\n",
       "      <td>5</td>\n",
       "      <td>4</td>\n",
       "      <td>45</td>\n",
       "      <td>0</td>\n",
       "      <td>0</td>\n",
       "      <td>9</td>\n",
       "      <td>36</td>\n",
       "    </tr>\n",
       "    <tr>\n",
       "      <th>aplicacao_CDB</th>\n",
       "      <td>20</td>\n",
       "      <td>4</td>\n",
       "      <td>16</td>\n",
       "      <td>0</td>\n",
       "      <td>40</td>\n",
       "      <td>0</td>\n",
       "      <td>24</td>\n",
       "      <td>16</td>\n",
       "    </tr>\n",
       "    <tr>\n",
       "      <th>aplicacao_Poupanca</th>\n",
       "      <td>2</td>\n",
       "      <td>8</td>\n",
       "      <td>5</td>\n",
       "      <td>0</td>\n",
       "      <td>0</td>\n",
       "      <td>15</td>\n",
       "      <td>10</td>\n",
       "      <td>5</td>\n",
       "    </tr>\n",
       "    <tr>\n",
       "      <th>estado_civil_Casado</th>\n",
       "      <td>17</td>\n",
       "      <td>12</td>\n",
       "      <td>14</td>\n",
       "      <td>9</td>\n",
       "      <td>24</td>\n",
       "      <td>10</td>\n",
       "      <td>43</td>\n",
       "      <td>0</td>\n",
       "    </tr>\n",
       "    <tr>\n",
       "      <th>estado_civil_Solteiro</th>\n",
       "      <td>41</td>\n",
       "      <td>5</td>\n",
       "      <td>11</td>\n",
       "      <td>36</td>\n",
       "      <td>16</td>\n",
       "      <td>5</td>\n",
       "      <td>0</td>\n",
       "      <td>57</td>\n",
       "    </tr>\n",
       "  </tbody>\n",
       "</table>\n",
       "</div>"
      ],
      "text/plain": [
       "                       perfil_Agressivo  perfil_Conservador  perfil_Moderado  \\\n",
       "perfil_Agressivo                     58                   0                0   \n",
       "perfil_Conservador                    0                  17                0   \n",
       "perfil_Moderado                       0                   0               25   \n",
       "aplicacao_Acoes                      36                   5                4   \n",
       "aplicacao_CDB                        20                   4               16   \n",
       "aplicacao_Poupanca                    2                   8                5   \n",
       "estado_civil_Casado                  17                  12               14   \n",
       "estado_civil_Solteiro                41                   5               11   \n",
       "\n",
       "                       aplicacao_Acoes  aplicacao_CDB  aplicacao_Poupanca  \\\n",
       "perfil_Agressivo                    36             20                   2   \n",
       "perfil_Conservador                   5              4                   8   \n",
       "perfil_Moderado                      4             16                   5   \n",
       "aplicacao_Acoes                     45              0                   0   \n",
       "aplicacao_CDB                        0             40                   0   \n",
       "aplicacao_Poupanca                   0              0                  15   \n",
       "estado_civil_Casado                  9             24                  10   \n",
       "estado_civil_Solteiro               36             16                   5   \n",
       "\n",
       "                       estado_civil_Casado  estado_civil_Solteiro  \n",
       "perfil_Agressivo                        17                     41  \n",
       "perfil_Conservador                      12                      5  \n",
       "perfil_Moderado                         14                     11  \n",
       "aplicacao_Acoes                          9                     36  \n",
       "aplicacao_CDB                           24                     16  \n",
       "aplicacao_Poupanca                      10                      5  \n",
       "estado_civil_Casado                     43                      0  \n",
       "estado_civil_Solteiro                    0                     57  "
      ]
     },
     "execution_count": 22,
     "metadata": {},
     "output_type": "execute_result"
    }
   ],
   "source": [
    "matrizBurt.head(100)"
   ]
  },
  {
   "cell_type": "markdown",
   "id": "43774d79",
   "metadata": {},
   "source": [
    "# Análise de Correspondência Múltipla\n",
    "\n",
    "Prince utiliza a Matriz de Burt para gerar as Coordenadas"
   ]
  },
  {
   "cell_type": "code",
   "execution_count": 24,
   "id": "69a8d529",
   "metadata": {},
   "outputs": [],
   "source": [
    "import prince\n",
    "\n",
    "# O módulo prince utiliza a base original de forma direta (já cria a matriz de burt)\n",
    "variaveis = perfil_investidor.iloc[:,1:]\n",
    "\n",
    "#Calculondo qtde de autovalores:\n",
    "# J - Q\n",
    "n = matrizBinaria.columns.size - variaveis.columns.size\n",
    "\n",
    "mca = prince.MCA(n_components=n,\n",
    "                engine='auto')\n",
    "#print('Autovalores:', n)"
   ]
  },
  {
   "cell_type": "code",
   "execution_count": 25,
   "id": "0acda142",
   "metadata": {},
   "outputs": [],
   "source": [
    "# Treina o modelo\n",
    "\n",
    "mca = mca.fit(variaveis)"
   ]
  },
  {
   "cell_type": "code",
   "execution_count": 26,
   "id": "deb13947",
   "metadata": {},
   "outputs": [
    {
     "data": {
      "image/png": "[encoded data removed]",
      "text/plain": [
       "<Figure size 600x600 with 1 Axes>"
      ]
     },
     "metadata": {},
     "output_type": "display_data"
    }
   ],
   "source": [
    "#Plota o mapa Perceptual\n",
    "ax = mca.plot_coordinates(variaveis,\n",
    "                         ax=None,\n",
    "                         show_row_points=False,\n",
    "                         show_column_labels=True,\n",
    "                         column_points_size = 100,)"
   ]
  },
  {
   "cell_type": "markdown",
   "id": "58de3b44",
   "metadata": {},
   "source": [
    "Por se tratar de uma análise onde geram-se 5 dimensões, temos 5 coordenadas sendo as duas primeiras\n",
    "X e Y."
   ]
  },
  {
   "cell_type": "code",
   "execution_count": 27,
   "id": "d37f34d3",
   "metadata": {},
   "outputs": [
    {
     "data": {
      "text/html": [
       "<div>\n",
       "<style scoped>\n",
       "    .dataframe tbody tr th:only-of-type {\n",
       "        vertical-align: middle;\n",
       "    }\n",
       "\n",
       "    .dataframe tbody tr th {\n",
       "        vertical-align: top;\n",
       "    }\n",
       "\n",
       "    .dataframe thead th {\n",
       "        text-align: right;\n",
       "    }\n",
       "</style>\n",
       "<table border=\"1\" class=\"dataframe\">\n",
       "  <thead>\n",
       "    <tr style=\"text-align: right;\">\n",
       "      <th></th>\n",
       "      <th>0</th>\n",
       "      <th>1</th>\n",
       "      <th>2</th>\n",
       "      <th>3</th>\n",
       "      <th>4</th>\n",
       "    </tr>\n",
       "  </thead>\n",
       "  <tbody>\n",
       "    <tr>\n",
       "      <th>perfil_Agressivo</th>\n",
       "      <td>-0.653</td>\n",
       "      <td>-0.015</td>\n",
       "      <td>-0.343</td>\n",
       "      <td>-0.161</td>\n",
       "      <td>0.392</td>\n",
       "    </tr>\n",
       "    <tr>\n",
       "      <th>perfil_Conservador</th>\n",
       "      <td>1.130</td>\n",
       "      <td>1.484</td>\n",
       "      <td>-0.482</td>\n",
       "      <td>0.834</td>\n",
       "      <td>-0.691</td>\n",
       "    </tr>\n",
       "    <tr>\n",
       "      <th>perfil_Moderado</th>\n",
       "      <td>0.747</td>\n",
       "      <td>-0.975</td>\n",
       "      <td>1.123</td>\n",
       "      <td>-0.193</td>\n",
       "      <td>-0.440</td>\n",
       "    </tr>\n",
       "    <tr>\n",
       "      <th>aplicacao_Acoes</th>\n",
       "      <td>-0.831</td>\n",
       "      <td>0.388</td>\n",
       "      <td>0.058</td>\n",
       "      <td>-0.358</td>\n",
       "      <td>-0.499</td>\n",
       "    </tr>\n",
       "    <tr>\n",
       "      <th>aplicacao_CDB</th>\n",
       "      <td>0.417</td>\n",
       "      <td>-0.935</td>\n",
       "      <td>-0.401</td>\n",
       "      <td>0.512</td>\n",
       "      <td>0.168</td>\n",
       "    </tr>\n",
       "    <tr>\n",
       "      <th>aplicacao_Poupanca</th>\n",
       "      <td>1.381</td>\n",
       "      <td>1.331</td>\n",
       "      <td>0.895</td>\n",
       "      <td>-0.291</td>\n",
       "      <td>1.049</td>\n",
       "    </tr>\n",
       "    <tr>\n",
       "      <th>estado_civil_Casado</th>\n",
       "      <td>0.843</td>\n",
       "      <td>-0.131</td>\n",
       "      <td>-0.541</td>\n",
       "      <td>-0.542</td>\n",
       "      <td>-0.108</td>\n",
       "    </tr>\n",
       "    <tr>\n",
       "      <th>estado_civil_Solteiro</th>\n",
       "      <td>-0.636</td>\n",
       "      <td>0.099</td>\n",
       "      <td>0.408</td>\n",
       "      <td>0.409</td>\n",
       "      <td>0.082</td>\n",
       "    </tr>\n",
       "  </tbody>\n",
       "</table>\n",
       "</div>"
      ],
      "text/plain": [
       "                           0      1      2      3      4\n",
       "perfil_Agressivo      -0.653 -0.015 -0.343 -0.161  0.392\n",
       "perfil_Conservador     1.130  1.484 -0.482  0.834 -0.691\n",
       "perfil_Moderado        0.747 -0.975  1.123 -0.193 -0.440\n",
       "aplicacao_Acoes       -0.831  0.388  0.058 -0.358 -0.499\n",
       "aplicacao_CDB          0.417 -0.935 -0.401  0.512  0.168\n",
       "aplicacao_Poupanca     1.381  1.331  0.895 -0.291  1.049\n",
       "estado_civil_Casado    0.843 -0.131 -0.541 -0.542 -0.108\n",
       "estado_civil_Solteiro -0.636  0.099  0.408  0.409  0.082"
      ]
     },
     "execution_count": 27,
     "metadata": {},
     "output_type": "execute_result"
    }
   ],
   "source": [
    "mca.column_coordinates(variaveis).round(3)"
   ]
  },
  {
   "cell_type": "markdown",
   "id": "58eced2b",
   "metadata": {},
   "source": [
    "Também são gerados 5 autovalores, sendo que utilizaremos os dois primeiros totalizando 62,3% da variância total explicada."
   ]
  },
  {
   "cell_type": "code",
   "execution_count": 28,
   "id": "f5767df3",
   "metadata": {},
   "outputs": [
    {
     "data": {
      "text/plain": [
       "[0.6023045112620058,\n",
       " 0.4359878227115962,\n",
       " 0.276472758068741,\n",
       " 0.17983707198690146,\n",
       " 0.1720645026374225]"
      ]
     },
     "execution_count": 28,
     "metadata": {},
     "output_type": "execute_result"
    }
   ],
   "source": [
    "# Inércias Principais (autovalores)\n",
    "mca.eigenvalues_"
   ]
  },
  {
   "cell_type": "code",
   "execution_count": 29,
   "id": "c1b35cfe",
   "metadata": {},
   "outputs": [
    {
     "data": {
      "text/plain": [
       "[0.36138270675720346,\n",
       " 0.2615926936269577,\n",
       " 0.1658836548412446,\n",
       " 0.10790224319214087,\n",
       " 0.1032387015824535]"
      ]
     },
     "execution_count": 29,
     "metadata": {},
     "output_type": "execute_result"
    }
   ],
   "source": [
    "#Percentual de variância explicada por dimensão\n",
    "mca.explained_inertia_"
   ]
  },
  {
   "cell_type": "code",
   "execution_count": 30,
   "id": "c68ab1e0",
   "metadata": {},
   "outputs": [
    {
     "data": {
      "text/plain": [
       "perfil_Agressivo         0.193333\n",
       "perfil_Conservador       0.056667\n",
       "perfil_Moderado          0.083333\n",
       "aplicacao_Acoes          0.150000\n",
       "aplicacao_CDB            0.133333\n",
       "aplicacao_Poupanca       0.050000\n",
       "estado_civil_Casado      0.143333\n",
       "estado_civil_Solteiro    0.190000\n",
       "dtype: float64"
      ]
     },
     "execution_count": 30,
     "metadata": {},
     "output_type": "execute_result"
    }
   ],
   "source": [
    "# Massas das colunas\n",
    "mca.col_masses_"
   ]
  },
  {
   "cell_type": "markdown",
   "id": "fb3edd5c",
   "metadata": {},
   "source": [
    "### A partir de variáveis qualitativas, geramos variáveis quantitativas.\n",
    "\n",
    "#### Abaixo temos as coordenadas para cada observação."
   ]
  },
  {
   "cell_type": "code",
   "execution_count": 31,
   "id": "c5981b39",
   "metadata": {},
   "outputs": [
    {
     "data": {
      "text/html": [
       "<div>\n",
       "<style scoped>\n",
       "    .dataframe tbody tr th:only-of-type {\n",
       "        vertical-align: middle;\n",
       "    }\n",
       "\n",
       "    .dataframe tbody tr th {\n",
       "        vertical-align: top;\n",
       "    }\n",
       "\n",
       "    .dataframe thead th {\n",
       "        text-align: right;\n",
       "    }\n",
       "</style>\n",
       "<table border=\"1\" class=\"dataframe\">\n",
       "  <thead>\n",
       "    <tr style=\"text-align: right;\">\n",
       "      <th></th>\n",
       "      <th>0</th>\n",
       "      <th>1</th>\n",
       "      <th>2</th>\n",
       "      <th>3</th>\n",
       "      <th>4</th>\n",
       "    </tr>\n",
       "  </thead>\n",
       "  <tbody>\n",
       "    <tr>\n",
       "      <th>0</th>\n",
       "      <td>1.441</td>\n",
       "      <td>1.355</td>\n",
       "      <td>-0.081</td>\n",
       "      <td>0.001</td>\n",
       "      <td>0.201</td>\n",
       "    </tr>\n",
       "    <tr>\n",
       "      <th>1</th>\n",
       "      <td>1.441</td>\n",
       "      <td>1.355</td>\n",
       "      <td>-0.081</td>\n",
       "      <td>0.001</td>\n",
       "      <td>0.201</td>\n",
       "    </tr>\n",
       "    <tr>\n",
       "      <th>2</th>\n",
       "      <td>1.441</td>\n",
       "      <td>1.355</td>\n",
       "      <td>-0.081</td>\n",
       "      <td>0.001</td>\n",
       "      <td>0.201</td>\n",
       "    </tr>\n",
       "    <tr>\n",
       "      <th>3</th>\n",
       "      <td>0.805</td>\n",
       "      <td>1.471</td>\n",
       "      <td>0.521</td>\n",
       "      <td>0.748</td>\n",
       "      <td>0.354</td>\n",
       "    </tr>\n",
       "    <tr>\n",
       "      <th>4</th>\n",
       "      <td>1.441</td>\n",
       "      <td>1.355</td>\n",
       "      <td>-0.081</td>\n",
       "      <td>0.001</td>\n",
       "      <td>0.201</td>\n",
       "    </tr>\n",
       "    <tr>\n",
       "      <th>...</th>\n",
       "      <td>...</td>\n",
       "      <td>...</td>\n",
       "      <td>...</td>\n",
       "      <td>...</td>\n",
       "      <td>...</td>\n",
       "    </tr>\n",
       "    <tr>\n",
       "      <th>95</th>\n",
       "      <td>-0.911</td>\n",
       "      <td>0.238</td>\n",
       "      <td>0.078</td>\n",
       "      <td>-0.087</td>\n",
       "      <td>-0.020</td>\n",
       "    </tr>\n",
       "    <tr>\n",
       "      <th>96</th>\n",
       "      <td>-0.911</td>\n",
       "      <td>0.238</td>\n",
       "      <td>0.078</td>\n",
       "      <td>-0.087</td>\n",
       "      <td>-0.020</td>\n",
       "    </tr>\n",
       "    <tr>\n",
       "      <th>97</th>\n",
       "      <td>-0.911</td>\n",
       "      <td>0.238</td>\n",
       "      <td>0.078</td>\n",
       "      <td>-0.087</td>\n",
       "      <td>-0.020</td>\n",
       "    </tr>\n",
       "    <tr>\n",
       "      <th>98</th>\n",
       "      <td>-0.911</td>\n",
       "      <td>0.238</td>\n",
       "      <td>0.078</td>\n",
       "      <td>-0.087</td>\n",
       "      <td>-0.020</td>\n",
       "    </tr>\n",
       "    <tr>\n",
       "      <th>99</th>\n",
       "      <td>-0.911</td>\n",
       "      <td>0.238</td>\n",
       "      <td>0.078</td>\n",
       "      <td>-0.087</td>\n",
       "      <td>-0.020</td>\n",
       "    </tr>\n",
       "  </tbody>\n",
       "</table>\n",
       "<p>100 rows × 5 columns</p>\n",
       "</div>"
      ],
      "text/plain": [
       "        0      1      2      3      4\n",
       "0   1.441  1.355 -0.081  0.001  0.201\n",
       "1   1.441  1.355 -0.081  0.001  0.201\n",
       "2   1.441  1.355 -0.081  0.001  0.201\n",
       "3   0.805  1.471  0.521  0.748  0.354\n",
       "4   1.441  1.355 -0.081  0.001  0.201\n",
       "..    ...    ...    ...    ...    ...\n",
       "95 -0.911  0.238  0.078 -0.087 -0.020\n",
       "96 -0.911  0.238  0.078 -0.087 -0.020\n",
       "97 -0.911  0.238  0.078 -0.087 -0.020\n",
       "98 -0.911  0.238  0.078 -0.087 -0.020\n",
       "99 -0.911  0.238  0.078 -0.087 -0.020\n",
       "\n",
       "[100 rows x 5 columns]"
      ]
     },
     "execution_count": 31,
     "metadata": {},
     "output_type": "execute_result"
    }
   ],
   "source": [
    "mca.row_coordinates(variaveis).round(3)"
   ]
  },
  {
   "cell_type": "code",
   "execution_count": 32,
   "id": "7f6259e4",
   "metadata": {
    "scrolled": false
   },
   "outputs": [
    {
     "data": {
      "image/png": "[encoded data removed]",
      "text/plain": [
       "<Figure size 1000x1000 with 1 Axes>"
      ]
     },
     "metadata": {},
     "output_type": "display_data"
    }
   ],
   "source": [
    "#Plota o mapa Perceptual\n",
    "ax = mca.plot_coordinates(variaveis,\n",
    "                         ax=None,\n",
    "                         figsize= (10,10),\n",
    "                         show_row_points=True,\n",
    "                         show_column_labels=True,\n",
    "                         show_row_labels=False,\n",
    "                         column_points_size = 100,\n",
    "                         legend_n_cols = 1)"
   ]
  },
  {
   "cell_type": "markdown",
   "id": "e96daba0",
   "metadata": {},
   "source": [
    "## Mapa Interativo"
   ]
  },
  {
   "cell_type": "code",
   "execution_count": 33,
   "id": "1a05e742",
   "metadata": {},
   "outputs": [],
   "source": [
    "import plotly.graph_objects as go\n",
    "import plotly.io as pio\n",
    "\n",
    "pio.renderers.default='browser'\n",
    "\n",
    "chart_df = pd.DataFrame({'obs_x':mca.row_coordinates(variaveis)[0],\n",
    "                         'estudante':perfil_investidor['estudante'],\n",
    "                         'obs_y': mca.row_coordinates(variaveis)[1]})\n",
    "\n",
    "fig = go.Figure(data=go.Scatter(x=chart_df['obs_x'],\n",
    "                                y=chart_df['obs_y'],\n",
    "                                mode='markers',\n",
    "                                name=\"Estudante\",\n",
    "                                text=chart_df['estudante']))\n",
    "\n",
    "fig.add_trace(go.Scatter(\n",
    "    x=mca.column_coordinates(variaveis)[0],\n",
    "    mode='markers+text',\n",
    "    name=\"Associação\",\n",
    "    marker={'size':12},\n",
    "    y=mca.column_coordinates(variaveis)[1],\n",
    "    textposition=\"top center\",\n",
    "    text=mca.column_coordinates(variaveis).index\n",
    "))\n",
    "\n",
    "fig.update_layout(\n",
    "    autosize=False,\n",
    "    width=800,\n",
    "    height=800,\n",
    "    title_text='Coordenadas das linhas e colunas'\n",
    ")\n",
    "\n",
    "fig.show()\n"
   ]
  },
  {
   "cell_type": "code",
   "execution_count": null,
   "id": "6c6e2900",
   "metadata": {},
   "outputs": [],
   "source": []
  }
 ],
 "metadata": {
  "kernelspec": {
   "display_name": "Python 3 (ipykernel)",
   "language": "python",
   "name": "python3"
  },
  "language_info": {
   "codemirror_mode": {
    "name": "ipython",
    "version": 3
   },
   "file_extension": ".py",
   "mimetype": "text/x-python",
   "name": "python",
   "nbconvert_exporter": "python",
   "pygments_lexer": "ipython3",
   "version": "3.9.13"
  }
 },
 "nbformat": 4,
 "nbformat_minor": 5
}
